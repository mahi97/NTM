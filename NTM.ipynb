{
  "nbformat": 4,
  "nbformat_minor": 0,
  "metadata": {
    "colab": {
      "name": "NTM",
      "provenance": [],
      "authorship_tag": "ABX9TyMWcqucP21VRuyEkMWQxPyc",
      "include_colab_link": true
    },
    "kernelspec": {
      "name": "python3",
      "display_name": "Python 3"
    }
  },
  "cells": [
    {
      "cell_type": "markdown",
      "metadata": {
        "id": "view-in-github",
        "colab_type": "text"
      },
      "source": [
        "<a href=\"https://colab.research.google.com/github/mahi97/NTM/blob/master/NTM.ipynb\" target=\"_parent\"><img src=\"https://colab.research.google.com/assets/colab-badge.svg\" alt=\"Open In Colab\"/></a>"
      ]
    },
    {
      "cell_type": "code",
      "metadata": {
        "id": "h6mr5lvwGXjV"
      },
      "source": [
        "import torch\n",
        "import torch.nn.functional as F\n",
        "from torch import nn\n",
        "from torch import optim\n",
        "import numpy as np\n",
        "import random\n",
        "from attr import attrs, attrib, Factory\n",
        "import time"
      ],
      "execution_count": 1,
      "outputs": []
    },
    {
      "cell_type": "markdown",
      "metadata": {
        "id": "UooDLvpe-6qb"
      },
      "source": [
        "## Memory Module"
      ]
    },
    {
      "cell_type": "code",
      "metadata": {
        "id": "pm7bl0LiK6Hm"
      },
      "source": [
        "def _convolve(wg, sg, batch_size):\n",
        "  \"\"\"Circular convolution implementation.\"\"\"\n",
        "  result = torch.zeros(wg.size())\n",
        "  for i in range(batch_size):\n",
        "    w = wg[i]\n",
        "    s = sg[i]\n",
        "    assert s.size(0) == 3\n",
        "    t = torch.cat([w[-1:], w, w[:1]])\n",
        "    result[i] = F.conv1d(t.view(1, 1, -1), s.view(1, 1, -1)).view(-1)\n",
        "  return result\n",
        "\n",
        "class Memory(nn.Module):\n",
        "  def __init__(self, N, M):\n",
        "    super(Memory, self).__init__()\n",
        "\n",
        "    self.M = M\n",
        "    self.N = N\n",
        "    \n",
        "    # The memory bias allows the heads to learn how to initially address\n",
        "    # memory locations by content\n",
        "    self.register_buffer('mem_bias', torch.Tensor(N, M))\n",
        "    std_dev = 1 / np.sqrt(N + M)\n",
        "    nn.init.uniform(self.mem_bias, -std_dev, std_dev)\n",
        "    \n",
        "  def reset(self, batch_size):\n",
        "    \"\"\"Initialize memory from bias, for start-of-sequence.\"\"\"\n",
        "    self.batch_size = batch_size\n",
        "    self.mem = self.mem_bias.clone().repeat(batch_size, 1, 1)\n",
        "   \n",
        "  def read(self, address):\n",
        "    \"\"\"\n",
        "    :param address: Batched Tensor with Size of batch_size * N, contain value between 0 and 1 with sum equals to 1\n",
        "    :return: Torch batched tensor with Size of batch_size * M, produce by sum over weighted elements of Memory\n",
        "    \"\"\"\n",
        "    return address.unsqueeze(1).matmul(self.mem).squeeze(1)\n",
        "\n",
        "  def write(self, address, erase_vector, add_vector):\n",
        "    self.prev_mem = self.mem\n",
        "    self.mem = torch.Tensor(self.batch_size, self.N, self.M)\n",
        "    erase = torch.matmul(address.unsqueeze(-1), erase_vector.unsqueeze(1))\n",
        "    add = torch.matmul(address.unsqueeze(-1), add_vector.unsqueeze(1))\n",
        "    self.memory = self.prev_mem * (1 - erase) + add\n",
        "\n",
        "  def address(self, key_vector, key_strength, gate, shift, sharpen, last_address):\n",
        "    \"\"\"NTM Addressing (according to section 3.3).\n",
        "    Returns a softmax weighting over the rows of the memory matrix.\n",
        "    :param key_vector: The key vector.\n",
        "    :param key_strength: The key strength (focus).\n",
        "    :param gate: Scalar interpolation gate (with previous weighting).\n",
        "    :param shift: Shift weighting.\n",
        "    :param sharpen: Sharpen weighting scalar.\n",
        "    :param last_address: The weighting produced in the previous time step.\n",
        "    \"\"\"\n",
        "    wc = F.softmax(key_strength * F.cosine_similarity(key_vector.unsqueeze(1), self.mem, dim=2), dim=1)\n",
        "    wg = (gate * wc) + (1 - gate) * last_address\n",
        "    ws = _convolve(wg, shift, self.batch_size)\n",
        "    ws = (ws ** sharpen)\n",
        "    wt = torch.true_divide(ws, torch.sum(ws, dim=1).view(-1, 1) + 1e-16)\n",
        "\n",
        "    return wt\n",
        "\n",
        "  def size(self):\n",
        "    return self.N, self.M\n"
      ],
      "execution_count": 2,
      "outputs": []
    },
    {
      "cell_type": "markdown",
      "metadata": {
        "id": "6kNyt0i4qdD6"
      },
      "source": [
        "## Controller Module\n",
        "### 1. LSTM\n"
      ]
    },
    {
      "cell_type": "code",
      "metadata": {
        "id": "hBQzqZ8wqcVG"
      },
      "source": [
        "class LSTMController(nn.Module):\n",
        "  def __init__(self, num_inputs, num_outputs, num_layers):\n",
        "    super(LSTMController, self).__init__()\n",
        "\n",
        "    self.num_inputs  = num_inputs\n",
        "    self.num_layers  = num_layers\n",
        "    self.num_outputs = num_outputs\n",
        "\n",
        "    self.lstm = nn.LSTM(num_inputs, num_outputs, num_layers)\n",
        "\n",
        "    self.lstm_h = nn.Parameter(torch.randn(num_layers, 1, num_outputs) * 0.05) # Why 0.05??\n",
        "    self.lstm_c = nn.Parameter(torch.Tensor(num_layers, 1, num_outputs) * 0.05) \n",
        "\n",
        "  def create_new_state(self, batch_size):\n",
        "    # Dimension: (num_layers * num_directions, batch, hidden_size)\n",
        "    lstm_h = self.lstm_h.clone().repeat(1, batch_size, 1)\n",
        "    lstm_c = self.lstm_c.clone().repeat(1, batch_size, 1)\n",
        "    return lstm_h, lstm_c\n",
        "\n",
        "  def reset_parameters(self):\n",
        "    for p in self.lstm.parameters():\n",
        "      if p.dim() == 1:\n",
        "        nn.init.constant_(p, 0)\n",
        "      else:\n",
        "        stdev = 5 / (np.sqrt(self.num_inputs +  self.num_outputs))\n",
        "        nn.init.uniform_(p, -stdev, stdev)\n",
        "\n",
        "  def size(self):\n",
        "    return self.num_inputs, self.num_outputs\n",
        "\n",
        "  def forward(self, x, prev_state):\n",
        "    x = x.unsqueeze(0)\n",
        "    outp, state = self.lstm(x, prev_state)\n",
        "    return outp.squeeze(0), state\n"
      ],
      "execution_count": 3,
      "outputs": []
    },
    {
      "cell_type": "markdown",
      "metadata": {
        "id": "vfXXASFt1TKn"
      },
      "source": [
        "### 2. Feed Forward"
      ]
    },
    {
      "cell_type": "code",
      "metadata": {
        "id": "qBt_xaa8r939"
      },
      "source": [
        "class FFController(nn.Module):\n",
        "  def __init__(self, num_inputs, num_outputs, num_hidden):\n",
        "    super(FFController, self).__init__()\n",
        "\n",
        "    self.num_inputs  = num_inputs\n",
        "    self.num_hidden  = num_hidden\n",
        "    self.num_outputs = num_outputs\n",
        "\n",
        "    self.fc1 = nn.Linear(num_inputs, num_hidden)\n",
        "    self.sigmoid = nn.Sigmoid()\n",
        "    self.fc2 = nn.Linear(num_hidden, num_outputs)\n",
        "    self.reset_parameters()\n",
        "\n",
        "  def reset_parameters(self):\n",
        "    # Initialize the linear layers\n",
        "    nn.init.xavier_uniform_(self.fc1.weight, gain=1.4)\n",
        "    nn.init.normal_(self.fc1.bias, std=0.01)\n",
        "    nn.init.xavier_uniform_(self.fc2.weight, gain=1.4)\n",
        "    nn.init.normal_(self.fc2.bias, std=0.01)\n",
        "  \n",
        "  def size(self):\n",
        "    return self.num_inputs, self.num_outputs\n",
        "\n",
        "  def forward(self, x):\n",
        "    out = self.fc1(x)\n",
        "    out = self.sigmoid(out)\n",
        "    out = self.fc2(out)\n",
        "    return out"
      ],
      "execution_count": 4,
      "outputs": []
    },
    {
      "cell_type": "markdown",
      "metadata": {
        "id": "Emutzzuj7HHz"
      },
      "source": [
        "## Heads"
      ]
    },
    {
      "cell_type": "markdown",
      "metadata": {
        "id": "sQLCFZ6D-QuH"
      },
      "source": [
        "### 1. Base Head"
      ]
    },
    {
      "cell_type": "code",
      "metadata": {
        "id": "5GsYm--m7Io8"
      },
      "source": [
        "class BaseHead(nn.Module):\n",
        "  def __init__(self, memory, controller):\n",
        "    super(BaseHead, self).__init__()\n",
        "\n",
        "    self.memory = memory\n",
        "    self.controller = controller\n",
        "    _, self.ctrl_size = controller.size()\n",
        "    self.M = memory.M\n",
        "    self.N = memory.N\n",
        "  \n",
        "  def create_new_state(self, batch_size):\n",
        "    raise NotImplementedError\n",
        "\n",
        "  def register_parameters(self):\n",
        "    raise NotImplementedError\n",
        "\n",
        "  def reset_parameters(self):\n",
        "    raise NotImplementedError\n",
        "\n",
        "  def is_read_head(self):\n",
        "    return NotImplementedError\n",
        "\n",
        "  def _address_memory(self, k, B, g, s, L, w_prev):\n",
        "    # Handle Activations\n",
        "    k = k.clone()\n",
        "    B = F.softplus(B)\n",
        "    g = F.sigmoid(g)\n",
        "    s = F.softmax(s, dim=1)\n",
        "    L = 1 + F.softplus(L)\n",
        "\n",
        "    w = self.memory.address(k, B, g, s, L, w_prev)\n",
        "\n",
        "    return w\n",
        "\n",
        "\n",
        "def _split_cols(mat, lengths):\n",
        "    \"\"\"Split a 2D matrix to variable length columns.\"\"\"\n",
        "    assert mat.size()[1] == sum(lengths), \"Lengths must be summed to num columns\"\n",
        "    l = np.cumsum([0] + lengths)\n",
        "    results = []\n",
        "    for s, e in zip(l[:-1], l[1:]):\n",
        "        results += [mat[:, s:e]]\n",
        "    return results"
      ],
      "execution_count": 5,
      "outputs": []
    },
    {
      "cell_type": "markdown",
      "metadata": {
        "id": "3mlxJUEC-WH1"
      },
      "source": [
        "### 2. Read Head"
      ]
    },
    {
      "cell_type": "code",
      "metadata": {
        "id": "cmQmaKlS-VM5"
      },
      "source": [
        "class ReadHead(BaseHead):\n",
        "  def __init__(self, memory, controller):\n",
        "    super(ReadHead, self).__init__(memory, controller)\n",
        "\n",
        "    #                     K, B, G, S, L\n",
        "    self.read_vector = [self.M, 1, 1, 3, 1]\n",
        "    self.fc_read = nn.Linear(self.ctrl_size, sum(self.read_vector))\n",
        "    self.reset_parameters()\n",
        "  \n",
        "  def create_new_state(self, batch_size):\n",
        "    return torch.zeros(batch_size, self.N)\n",
        "\n",
        "  def reset_parameters(self):\n",
        "    nn.init.xavier_uniform_(self.fc_read.weight, gain=1.4)\n",
        "    nn.init.normal_(self.fc_read.bias, std=0.01)\n",
        "\n",
        "  def is_read_head(self):\n",
        "    return True\n",
        "\n",
        "  def forward(self, input, last_w):\n",
        "    out = self.fc_read(input)\n",
        "    K, B, G, S, L = _split_cols(out, self.read_vector)\n",
        "    w = self._address_memory(K, B, G, S, L, last_w)\n",
        "    r = self.memory.read(w)\n",
        "    return r, w"
      ],
      "execution_count": 6,
      "outputs": []
    },
    {
      "cell_type": "markdown",
      "metadata": {
        "id": "X4vG4rqFF8Hw"
      },
      "source": [
        "### 3. Write Head"
      ]
    },
    {
      "cell_type": "code",
      "metadata": {
        "id": "ATTmhBcOF8gx"
      },
      "source": [
        "class WriteHead(BaseHead):\n",
        "  def __init__(self, memory, controller):\n",
        "    super(WriteHead, self).__init__(memory, controller)\n",
        "\n",
        "    #                     K, B, G, S, L, add, erase\n",
        "    self.write_vector = [self.M, 1, 1, 3, 1, self.M, self.M]\n",
        "    self.fc_write = nn.Linear(self.ctrl_size, sum(self.write_vector))\n",
        "    self.reset_parameters()\n",
        "  \n",
        "  def create_new_state(self, batch_size):\n",
        "    return torch.zeros(batch_size, self.N)\n",
        "\n",
        "  def reset_parameters(self):\n",
        "    nn.init.xavier_uniform_(self.fc_write.weight, gain=1.4)\n",
        "    nn.init.normal_(self.fc_write.bias, std=0.01)\n",
        "\n",
        "  def is_read_head(self):\n",
        "    return False\n",
        "\n",
        "  def forward(self, input, last_w):\n",
        "    out = self.fc_write(input)\n",
        "    K, B, G, S, L, A, E = _split_cols(out, self.write_vector)\n",
        "    w = self._address_memory(K, B, G, S, L, last_w)\n",
        "    self.memory.write(w, F.sigmoid(E), A)\n",
        "    return w"
      ],
      "execution_count": 7,
      "outputs": []
    },
    {
      "cell_type": "markdown",
      "metadata": {
        "id": "SM8LKpDfMUGN"
      },
      "source": [
        "## DataPath"
      ]
    },
    {
      "cell_type": "code",
      "metadata": {
        "id": "Hd-44FSlMUep"
      },
      "source": [
        "class DataPath(nn.Module):\n",
        "  \"\"\"A DataPath for NTM.\"\"\"\n",
        "  def __init__(self, num_inputs, num_outputs, controller, memory, heads):\n",
        "    \"\"\"Initialize the DataPath.\n",
        "    :param num_inputs: External input size.\n",
        "    :param num_outputs: External output size.\n",
        "    :param controller: :class:`LSTMController`\n",
        "    :param memory: :class:`Memory`\n",
        "    :param heads: list of :class:`ReadHead` or :class:`WriteHead`\n",
        "    Note: This design allows the flexibility of using any number of read and\n",
        "          write heads independently, also, the order by which the heads are\n",
        "          called in controlled by the user (order in list)\n",
        "    \"\"\"\n",
        "    super(DataPath, self).__init__()\n",
        "\n",
        "    self.num_inputs = num_inputs\n",
        "    self.num_outputs = num_outputs\n",
        "    self.controller = controller\n",
        "    self.memory = memory\n",
        "    self.heads = heads\n",
        "\n",
        "    self.N, self.M = memory.size()\n",
        "    _, self.controller_size = controller.size()\n",
        "\n",
        "    # Initialize a fully connected layer to produce the actual output:\n",
        "    #   [controller_output; previous_reads ] -> output\n",
        "    # self.fc = nn.Linear(self.controller_size + self.num_read_heads * self.M, num_outputs)\n",
        "    #   [controller_output ] -> output\n",
        "    self.fc = nn.Linear(self.controller_size, num_outputs)\n",
        "    self.reset_parameters()\n",
        "\n",
        "  def create_new_state(self, batch_size):\n",
        "    init_r = [r.clone().repeat(batch_size, 1) for r in self.init_r]\n",
        "    controller_state = self.controller.create_new_state(batch_size)\n",
        "    heads_state = [head.create_new_state(batch_size) for head in self.heads]\n",
        "\n",
        "    return init_r, controller_state, heads_state\n",
        "\n",
        "  def reset_parameters(self):\n",
        "    # Initialize the linear layer\n",
        "    nn.init.xavier_uniform_(self.fc.weight, gain=1)\n",
        "    nn.init.normal_(self.fc.bias, std=0.01)\n",
        "    \n",
        "    # Initialize the initial previous read values to random biases\n",
        "    self.num_read_heads = 0\n",
        "    self.init_r = []\n",
        "    for head in self.heads:\n",
        "      if head.is_read_head():\n",
        "        init_r_bias = torch.randn(1, self.M) * 0.01\n",
        "        self.register_buffer(\"read{}_bias\".format(self.num_read_heads), init_r_bias.data)\n",
        "        self.init_r += [init_r_bias]\n",
        "        self.num_read_heads += 1\n",
        "\n",
        "    assert self.num_read_heads > 0, \"heads list must contain at least a single read head\"\n",
        "\n",
        "  def forward(self, x, prev_state):\n",
        "    \"\"\"DataPath forward function.\n",
        "    :param x: input vector (batch_size x num_inputs)\n",
        "    :param prev_state: The previous state of the DataPath\n",
        "    \"\"\"\n",
        "    # Unpack the previous state\n",
        "    prev_reads, prev_controller_state, prev_heads_states = prev_state\n",
        "\n",
        "    # Use the controller to get an embeddings\n",
        "    inp = torch.cat([x] + prev_reads, dim=1)\n",
        "    controller_outp, controller_state = self.controller(inp, prev_controller_state)\n",
        "\n",
        "    # Read/Write from the list of heads\n",
        "    reads = []\n",
        "    heads_states = []\n",
        "    for head, prev_head_state in zip(self.heads, prev_heads_states):\n",
        "      if head.is_read_head():\n",
        "        r, head_state = head(controller_outp, prev_head_state)\n",
        "        reads += [r]\n",
        "      else:\n",
        "        head_state = head(controller_outp, prev_head_state)\n",
        "      heads_states += [head_state]\n",
        "\n",
        "    # Generate Output\n",
        "    # inp2 = torch.cat([controller_outp] + reads, dim=1)\n",
        "    # o = F.sigmoid(self.fc(inp2))\n",
        "    o = F.sigmoid(self.fc(controller_outp))\n",
        "\n",
        "    # Pack the current state\n",
        "    state = (reads, controller_state, heads_states)\n",
        "\n",
        "    return o, state"
      ],
      "execution_count": 8,
      "outputs": []
    },
    {
      "cell_type": "markdown",
      "metadata": {
        "id": "AH2_OV-yHfC6"
      },
      "source": [
        "## NTM"
      ]
    },
    {
      "cell_type": "code",
      "metadata": {
        "id": "bVH6r5dPHWG-"
      },
      "source": [
        "class NTM(nn.Module):\n",
        "\n",
        "  def __init__(self, num_inputs, num_outputs, controller_size, controller_layers, num_read_heads, num_write_heads, N, M):\n",
        "    \"\"\"Initialize an NTM.\n",
        "    :param num_inputs: External number of inputs.\n",
        "    :param num_outputs: External number of outputs.\n",
        "    :param controller_size: The size of the internal representation.\n",
        "    :param controller_layers: Controller number of layers.\n",
        "    :param num_heads: Number of heads.\n",
        "    :param N: Number of rows in the memory bank.\n",
        "    :param M: Number of cols/features in the memory bank.\n",
        "    \"\"\"\n",
        "    super(NTM, self).__init__()\n",
        "\n",
        "    # Save args\n",
        "    self.num_inputs = num_inputs\n",
        "    self.num_outputs = num_outputs\n",
        "    self.controller_size = controller_size\n",
        "    self.controller_layers = controller_layers\n",
        "    self.num_read_heads = num_read_heads\n",
        "    self.num_write_heads = num_write_heads\n",
        "    self.N = N\n",
        "    self.M = M\n",
        "\n",
        "    # Create the NTM components\n",
        "    self.memory = Memory(N, M)\n",
        "    self.controller = LSTMController(num_inputs + M*(num_read_heads), controller_size, controller_layers)\n",
        "    # controller = FFController(num_inputs + M*num_heads, controller_size, controller_layers)\n",
        "    self.heads = nn.ModuleList([ReadHead(self.memory, self.controller) for _ in range(num_read_heads)])\n",
        "    self.heads += [WriteHead(self.memory, self.controller) for _ in range(num_write_heads)]\n",
        "\n",
        "    self.data_path = DataPath(num_inputs, num_outputs, self.controller, self.memory, self.heads)\n",
        "\n",
        "  def init_sequence(self, batch_size):\n",
        "    \"\"\"Initializing the state.\"\"\"\n",
        "    self.batch_size = batch_size\n",
        "    self.memory.reset(batch_size)\n",
        "    self.previous_state = self.data_path.create_new_state(batch_size)\n",
        "\n",
        "  def forward(self, x=None):\n",
        "    if x is None:\n",
        "      x = torch.zeros(self.batch_size, self.num_inputs)\n",
        "    o, self.previous_state = self.data_path(x, self.previous_state)\n",
        "    return o, self.previous_state\n",
        "\n",
        "  def calculate_num_params(self):\n",
        "    \"\"\"Returns the total number of parameters.\"\"\"\n",
        "    num_params = 0\n",
        "    for p in self.parameters():\n",
        "      num_params += p.data.view(-1).size(0)\n",
        "    \n",
        "    return num_params"
      ],
      "execution_count": 9,
      "outputs": []
    },
    {
      "cell_type": "markdown",
      "metadata": {
        "id": "VoH1zpLxa6TJ"
      },
      "source": [
        "## Tasks\n",
        "### 1. Copy Task\n",
        "\n",
        "\n",
        "#### Model and Parameters"
      ]
    },
    {
      "cell_type": "code",
      "metadata": {
        "id": "wzAN675DQ3Ee"
      },
      "source": [
        "\"\"\"Copy Task NTM model.\"\"\"\n",
        "\n",
        "\n",
        "# Generator of randomized test sequences\n",
        "def dataloader(num_batches, batch_size, seq_width, min_len, max_len):\n",
        "  \"\"\"Generator of random sequences for the copy task.\n",
        "  Creates random batches of \"bits\" sequences.\n",
        "  All the sequences within each batch have the same length.\n",
        "  The length is [`min_len`, `max_len`]\n",
        "  :param num_batches: Total number of batches to generate.\n",
        "  :param seq_width: The width of each item in the sequence.\n",
        "  :param batch_size: Batch size.\n",
        "  :param min_len: Sequence minimum length.\n",
        "  :param max_len: Sequence maximum length.\n",
        "  NOTE: The input width is `seq_width + 1`, the additional input\n",
        "  contain the delimiter.\n",
        "  \"\"\"\n",
        "  for batch_num in range(num_batches):\n",
        "\n",
        "    # All batches have the same sequence length\n",
        "    seq_len = random.randint(min_len, max_len)\n",
        "    seq = np.random.binomial(1, 0.5, (seq_len, batch_size, seq_width))\n",
        "    seq = torch.from_numpy(seq)\n",
        "\n",
        "    # The input includes an additional channel used for the delimiter\n",
        "    inp = torch.zeros(seq_len + 1, batch_size, seq_width + 1)\n",
        "    inp[:seq_len, :, :seq_width] = seq\n",
        "    inp[seq_len, :, seq_width] = 1.0 # delimiter in our control channel\n",
        "    outp = seq.clone()\n",
        "\n",
        "    yield batch_num+1, inp.float(), outp.float()\n",
        "\n",
        "\n",
        "@attrs\n",
        "class CopyTaskParams(object):\n",
        "  name = attrib(default=\"copy-task\")\n",
        "  controller_size = attrib(default=100, converter=int)\n",
        "  controller_layers = attrib(default=1,converter=int)\n",
        "  num_read_heads = attrib(default=1, converter=int)\n",
        "  num_write_heads = attrib(default=1, converter=int)\n",
        "  sequence_width = attrib(default=8, converter=int)\n",
        "  sequence_min_len = attrib(default=1,converter=int)\n",
        "  sequence_max_len = attrib(default=20, converter=int)\n",
        "  memory_n = attrib(default=128, converter=int)\n",
        "  memory_m = attrib(default=20, converter=int)\n",
        "  num_batches = attrib(default=50000, converter=int)\n",
        "  batch_size = attrib(default=1, converter=int)\n",
        "  rmsprop_lr = attrib(default=1e-4, converter=float)\n",
        "  rmsprop_momentum = attrib(default=0.9, converter=float)\n",
        "  rmsprop_alpha = attrib(default=0.95, converter=float)\n",
        "\n",
        "@attrs\n",
        "class CopyTaskModelTraining(object):\n",
        "  params = attrib(default=Factory(CopyTaskParams))\n",
        "  net = attrib()\n",
        "  dataloader = attrib()\n",
        "  criterion = attrib()\n",
        "  optimizer = attrib()\n",
        "\n",
        "  @net.default\n",
        "  def default_net(self):\n",
        "    # We have 1 additional input for the delimiter which is passed on a\n",
        "    # separate \"control\" channel\n",
        "    net = NTM(self.params.sequence_width + 1, self.params.sequence_width,\n",
        "              self.params.controller_size, self.params.controller_layers,\n",
        "              self.params.num_read_heads, self.params.num_write_heads,\n",
        "              self.params.memory_n, self.params.memory_m)\n",
        "    return net\n",
        "\n",
        "  @dataloader.default\n",
        "  def default_dataloader(self):\n",
        "    return dataloader(self.params.num_batches, self.params.batch_size,\n",
        "                      self.params.sequence_width,\n",
        "                      self.params.sequence_min_len, self.params.sequence_max_len)\n",
        "\n",
        "  @criterion.default\n",
        "  def default_criterion(self):\n",
        "    return nn.BCELoss()\n",
        "\n",
        "  @optimizer.default\n",
        "  def default_optimizer(self):\n",
        "    return optim.RMSprop(self.net.parameters(),\n",
        "                        momentum=self.params.rmsprop_momentum,\n",
        "                        alpha=self.params.rmsprop_alpha,\n",
        "                        lr=self.params.rmsprop_lr)"
      ],
      "execution_count": 10,
      "outputs": []
    },
    {
      "cell_type": "markdown",
      "metadata": {
        "id": "v1QL2TeEchCv"
      },
      "source": [
        "#### Training\n",
        "\n",
        "Helper Parameter and Fucntions"
      ]
    },
    {
      "cell_type": "code",
      "metadata": {
        "id": "HtK-GK-zsTa6"
      },
      "source": [
        "def get_ms():\n",
        "  return time.time() * 1000\n",
        "\n",
        "def progress_clean():\n",
        "  \"\"\"Clean the progress bar.\"\"\"\n",
        "  print(\"\\r{}\".format(\" \" * 80), end='\\r')\n",
        "\n",
        "def progress_bar(batch_num, report_interval, last_loss):\n",
        "  \"\"\"Prints the progress until the next report.\"\"\"\n",
        "  progress = (((batch_num-1) % report_interval) + 1) / report_interval\n",
        "  fill = int(progress * 40)\n",
        "  print(\"\\r[{}{}]: {} (Loss: {:.4f})\".format(\"=\" * fill, \" \" * (40 - fill), batch_num, last_loss), end='')"
      ],
      "execution_count": 11,
      "outputs": []
    },
    {
      "cell_type": "markdown",
      "metadata": {
        "id": "dpWvJgbMsZrY"
      },
      "source": [
        "### Training Fucntions"
      ]
    },
    {
      "cell_type": "code",
      "metadata": {
        "id": "qGmGFIv3cpKK"
      },
      "source": [
        "\"\"\"Training for the Copy Task in Neural Turing Machines.\"\"\"\n",
        "\n",
        "def clip_grads(net):\n",
        "    \"\"\"Gradient clipping to the range [10, 10].\"\"\"\n",
        "    parameters = list(filter(lambda p: p.grad is not None, net.parameters()))\n",
        "    for p in parameters:\n",
        "        p.grad.data.clamp_(-10, 10)\n",
        "\n",
        "def train_batch(net, criterion, optimizer, X, Y):\n",
        "    \"\"\"Trains a single batch.\"\"\"\n",
        "    optimizer.zero_grad()\n",
        "    inp_seq_len = X.size(0)\n",
        "    outp_seq_len, batch_size, _ = Y.size()\n",
        "\n",
        "    # New sequence\n",
        "    net.init_sequence(batch_size)\n",
        "\n",
        "    # Feed the sequence + delimiter\n",
        "    for i in range(inp_seq_len):\n",
        "        net(X[i])\n",
        "\n",
        "    # Read the output (no input given)\n",
        "    y_out = torch.zeros(Y.size())\n",
        "    for i in range(outp_seq_len):\n",
        "        y_out[i], _ = net()\n",
        "\n",
        "    loss = criterion(y_out, Y)\n",
        "    loss.backward()\n",
        "    clip_grads(net)\n",
        "    optimizer.step()\n",
        "\n",
        "    y_out_binarized = y_out.clone().data\n",
        "    y_out_binarized.apply_(lambda x: 0 if x < 0.5 else 1)\n",
        "\n",
        "    # The cost is the number of error bits per sequence\n",
        "    cost = torch.sum(torch.abs(y_out_binarized - Y.data))\n",
        "\n",
        "    return loss.item(), cost.item() / batch_size\n",
        "\n",
        "def train_model(model, report_interval=500):\n",
        "    num_batches = model.params.num_batches\n",
        "    batch_size = model.params.batch_size\n",
        "\n",
        "    losses = []\n",
        "    costs = []\n",
        "    seq_lengths = []\n",
        "    start_ms = get_ms()\n",
        "\n",
        "    for batch_num, x, y in model.dataloader:\n",
        "        loss, cost = train_batch(model.net, model.criterion, model.optimizer, x, y)\n",
        "        losses += [loss]\n",
        "        costs += [cost]\n",
        "        seq_lengths += [y.size(0)]\n",
        "\n",
        "        # Update the progress bar\n",
        "        progress_bar(batch_num, report_interval, loss)\n",
        "\n",
        "        # Report\n",
        "        if batch_num % report_interval == 0:\n",
        "            mean_loss = np.array(losses[-report_interval:]).mean()\n",
        "            mean_cost = np.array(costs[-report_interval:]).mean()\n",
        "            mean_time = int(((get_ms() - start_ms) / report_interval) / batch_size)\n",
        "            progress_clean()\n",
        "            start_ms = get_ms()\n",
        "    print(losses)\n",
        "    print(costs)"
      ],
      "execution_count": 12,
      "outputs": []
    },
    {
      "cell_type": "code",
      "metadata": {
        "id": "zNQX7oYlpfkd",
        "outputId": "cca56182-7a0a-4d0b-a8b0-da2fb654c1cb",
        "colab": {
          "base_uri": "https://localhost:8080/",
          "height": 90
        }
      },
      "source": [
        "TASK = {\n",
        "    'copy': (CopyTaskModelTraining, CopyTaskParams)\n",
        "}\n",
        "SEED = 1\n",
        "\n",
        "np.random.seed(SEED)\n",
        "torch.manual_seed(SEED)\n",
        "random.seed(SEED)\n",
        "\n",
        "# Initialize the Model\n",
        "model_cls, params_cls = TASK['copy']\n",
        "model = model_cls(params=params_cls())\n",
        "\n",
        "# Train Model\n",
        "train_model(model, 500)"
      ],
      "execution_count": null,
      "outputs": [
        {
          "output_type": "stream",
          "text": [
            "/usr/local/lib/python3.6/dist-packages/ipykernel_launcher.py:23: UserWarning: nn.init.uniform is now deprecated in favor of nn.init.uniform_.\n",
            "/usr/local/lib/python3.6/dist-packages/torch/nn/functional.py:1625: UserWarning: nn.functional.sigmoid is deprecated. Use torch.sigmoid instead.\n",
            "  warnings.warn(\"nn.functional.sigmoid is deprecated. Use torch.sigmoid instead.\")\n"
          ],
          "name": "stderr"
        },
        {
          "output_type": "stream",
          "text": [
            "[======================                  ]: 12786 (Loss: 0.2594)"
          ],
          "name": "stdout"
        }
      ]
    },
    {
      "cell_type": "markdown",
      "metadata": {
        "id": "E_VTPWoZwgY7"
      },
      "source": [
        "### Test Model"
      ]
    },
    {
      "cell_type": "code",
      "metadata": {
        "id": "rvPJgTlCwh9p"
      },
      "source": [
        "def evaluate(net, criterion, X, Y):\n",
        "    \"\"\"Evaluate a single batch (without training).\"\"\"\n",
        "    inp_seq_len = X.size(0)\n",
        "    outp_seq_len, batch_size, _ = Y.size()\n",
        "\n",
        "    # New sequence\n",
        "    net.init_sequence(batch_size)\n",
        "\n",
        "    # Feed the sequence + delimiter\n",
        "    states = []\n",
        "    for i in range(inp_seq_len):\n",
        "        o, state = net(X[i])\n",
        "        states += [state]\n",
        "\n",
        "    # Read the output (no input given)\n",
        "    y_out = torch.zeros(Y.size())\n",
        "    for i in range(outp_seq_len):\n",
        "        y_out[i], state = net()\n",
        "        states += [state]\n",
        "\n",
        "    loss = criterion(y_out, Y)\n",
        "\n",
        "    y_out_binarized = y_out.clone().data\n",
        "    y_out_binarized.apply_(lambda x: 0 if x < 0.5 else 1)\n",
        "\n",
        "    # The cost is the number of error bits per sequence\n",
        "    cost = torch.sum(torch.abs(y_out_binarized - Y.data))\n",
        "\n",
        "    result = {\n",
        "        'loss': loss.data[0],\n",
        "        'cost': cost / batch_size,\n",
        "        'y_out': y_out,\n",
        "        'y_out_binarized': y_out_binarized,\n",
        "        'states': states\n",
        "    }\n",
        "\n",
        "    return result\n",
        "\n",
        "def test_model(model, report_interval=500):\n",
        "    num_batches = model.params.num_batches\n",
        "    batch_size = model.params.batch_size\n",
        "\n",
        "    losses = []\n",
        "    costs = []\n",
        "    seq_lengths = []\n",
        "    start_ms = get_ms()\n",
        "\n",
        "    for batch_num, x, y in model.dataloader:\n",
        "        res = evaluate(model.net, model.criterion, x, y)\n",
        "        losses += [res['loss']]\n",
        "        costs += [res['cost']]\n",
        "        seq_lengths += [y.size(0)]\n",
        "\n",
        "        # Update the progress bar\n",
        "        progress_bar(batch_num, report_interval, loss)\n",
        "\n",
        "        # Report\n",
        "        if batch_num % report_interval == 0:\n",
        "            mean_loss = np.array(losses[-report_interval:]).mean()\n",
        "            mean_cost = np.array(costs[-report_interval:]).mean()\n",
        "            mean_time = int(((get_ms() - start_ms) / report_interval) / batch_size)\n",
        "            progress_clean()\n",
        "            start_ms = get_ms()"
      ],
      "execution_count": null,
      "outputs": []
    },
    {
      "cell_type": "code",
      "metadata": {
        "id": "pa7KtY59xN9K"
      },
      "source": [
        "# Test the Model\n",
        "test_model(model)"
      ],
      "execution_count": null,
      "outputs": []
    },
    {
      "cell_type": "code",
      "metadata": {
        "id": "NRe7FFw9xe-Y"
      },
      "source": [
        ""
      ],
      "execution_count": null,
      "outputs": []
    }
  ]
}