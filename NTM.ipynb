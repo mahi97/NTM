{
  "nbformat": 4,
  "nbformat_minor": 0,
  "metadata": {
    "colab": {
      "name": "NTM",
      "provenance": [],
      "authorship_tag": "ABX9TyMjlyWyfvaNJb/IGzYddq/O",
      "include_colab_link": true
    },
    "kernelspec": {
      "name": "python3",
      "display_name": "Python 3"
    }
  },
  "cells": [
    {
      "cell_type": "markdown",
      "metadata": {
        "id": "view-in-github",
        "colab_type": "text"
      },
      "source": [
        "<a href=\"https://colab.research.google.com/github/mahi97/NTM/blob/master/NTM.ipynb\" target=\"_parent\"><img src=\"https://colab.research.google.com/assets/colab-badge.svg\" alt=\"Open In Colab\"/></a>"
      ]
    },
    {
      "cell_type": "code",
      "metadata": {
        "id": "h6mr5lvwGXjV"
      },
      "source": [
        "import torch\n",
        "import torch.nn.functional as F\n",
        "from torch import nn\n",
        "import numpy as np"
      ],
      "execution_count": null,
      "outputs": []
    },
    {
      "cell_type": "markdown",
      "metadata": {
        "id": "UooDLvpe-6qb"
      },
      "source": [
        "## Memory Module"
      ]
    },
    {
      "cell_type": "code",
      "metadata": {
        "id": "pm7bl0LiK6Hm"
      },
      "source": [
        "def _convolve(w, s):\n",
        "  \"\"\"Circular convolution implementation.\"\"\"\n",
        "  assert s.size(0) == 3\n",
        "  t = torch.cat([w[-1:], w, w[:1]])\n",
        "  c = F.conv1d(t.view(1, 1, -1), s.view(1, 1, -1)).view(-1)\n",
        "  return c\n",
        "\n",
        "class Memory(nn.Module):\n",
        "  def __init__(self, N, M):\n",
        "    super(Memory, self).__init__()\n",
        "\n",
        "    self.M = M\n",
        "    self.N = N\n",
        "    \n",
        "    # The memory bias allows the heads to learn how to initially address\n",
        "    # memory locations by content\n",
        "    self.register_buffer('mem_bias', torch.Tensor(N, M))\n",
        "    std_dev = 1 / np.sqrt(N + M)\n",
        "    nn.init.uniform(self.mem_bias, -std_dev, std_dev)\n",
        "    \n",
        "  def reset(self, batch_size):\n",
        "    \"\"\"Initialize memory from bias, for start-of-sequence.\"\"\"\n",
        "    self.batch_size = batch_size\n",
        "    self.mem = self.mem_bias.clone().repeat(batch_size, 1, 1)\n",
        "   \n",
        "  def read(self, address):\n",
        "    \"\"\"\n",
        "    :param address: Batched Tensor with Size of batch_size * N, contain value between 0 and 1 with sum equals to 1\n",
        "    :return: Torch batched tensor with Size of batch_size * M, produce by sum over weighted elements of Memory\n",
        "    \"\"\"\n",
        "    return address.unsqueeze(-1).matmul(self.mem).squeeze(1)\n",
        "\n",
        "  def write(self, address, erase_vector, add_vector):\n",
        "    self.prev_mem = self.mem\n",
        "    self.mem = torch.Tensor(self.batch_size, self.N, self.M)\n",
        "    erase = torch.matmul(w.unsqueeze(-1), e.unsqueeze(1))\n",
        "    add = torch.matmul(w.unsqueeze(-1), a.unsqueeze(1))\n",
        "    self.memory = self.prev_mem * (1 - erase) + add\n",
        "\n",
        "  def address(self, key_vector, key_strength, gate, shift, sharpen, last_address):\n",
        "    \"\"\"NTM Addressing (according to section 3.3).\n",
        "    Returns a softmax weighting over the rows of the memory matrix.\n",
        "    :param key_vector: The key vector.\n",
        "    :param key_strength: The key strength (focus).\n",
        "    :param gate: Scalar interpolation gate (with previous weighting).\n",
        "    :param shift: Shift weighting.\n",
        "    :param sharpen: Sharpen weighting scalar.\n",
        "    :param last_address: The weighting produced in the previous time step.\n",
        "    \"\"\"\n",
        "    wc = F.softmax(key_strength * F.cosine_similarity(key_vector.unsqueeze(1), self.mem, dim=2), dim=1)\n",
        "    wg = (gate * wc) + (1 - gate) * last_address\n",
        "    ws = torch.from_numpy(np.array([(_convolve(wg[b], shift[b])).numpy() for b in range(self.batch_size)]))\n",
        "    ws = (ws ** sharpen)\n",
        "    wt = torch.true_divide(ws, torch.sum(ws, dim=1).view(-1, 1) + 1e-16)\n",
        "\n",
        "    return wt\n"
      ],
      "execution_count": 212,
      "outputs": []
    },
    {
      "cell_type": "markdown",
      "metadata": {
        "id": "6kNyt0i4qdD6"
      },
      "source": [
        ""
      ]
    },
    {
      "cell_type": "code",
      "metadata": {
        "id": "hBQzqZ8wqcVG"
      },
      "source": [
        ""
      ],
      "execution_count": null,
      "outputs": []
    }
  ]
}