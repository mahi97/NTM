{
  "nbformat": 4,
  "nbformat_minor": 0,
  "metadata": {
    "colab": {
      "name": "NTM",
      "provenance": [],
      "authorship_tag": "ABX9TyN9pkXvqRpmw1T8eC9KP70I",
      "include_colab_link": true
    },
    "kernelspec": {
      "name": "python3",
      "display_name": "Python 3"
    }
  },
  "cells": [
    {
      "cell_type": "markdown",
      "metadata": {
        "id": "view-in-github",
        "colab_type": "text"
      },
      "source": [
        "<a href=\"https://colab.research.google.com/github/mahi97/NTM/blob/master/NTM.ipynb\" target=\"_parent\"><img src=\"https://colab.research.google.com/assets/colab-badge.svg\" alt=\"Open In Colab\"/></a>"
      ]
    },
    {
      "cell_type": "markdown",
      "metadata": {
        "id": "NTKKpR-GSZgO"
      },
      "source": [
        "## Neural Turing Machine"
      ]
    },
    {
      "cell_type": "markdown",
      "metadata": {
        "id": "ddj3PS95SgPr"
      },
      "source": [
        "### Import Stuff and initialization of libraries"
      ]
    },
    {
      "cell_type": "code",
      "metadata": {
        "id": "XRzmHIrJmW2S"
      },
      "source": [
        ""
      ],
      "execution_count": null,
      "outputs": []
    },
    {
      "cell_type": "code",
      "metadata": {
        "id": "h6mr5lvwGXjV"
      },
      "source": [
        "import torch\n",
        "import torch.nn.functional as F\n",
        "from torch.nn.parallel import data_parallel\n",
        "from torch import nn\n",
        "from torch import optim\n",
        "import numpy as np\n",
        "import random\n",
        "from attr import attrs, attrib, Factory\n",
        "import time\n",
        "import json"
      ],
      "execution_count": 1,
      "outputs": []
    },
    {
      "cell_type": "code",
      "metadata": {
        "id": "_pEOqxkAl3gc",
        "outputId": "09bc5a23-ff07-479a-87c9-09a489cfca25",
        "colab": {
          "base_uri": "https://localhost:8080/",
          "height": 34
        }
      },
      "source": [
        "device = torch.device(\"cuda:0\" if torch.cuda.is_available() else \"cpu\")\n",
        "print(device)\n",
        "CUDA = torch.cuda.is_available() and False"
      ],
      "execution_count": 2,
      "outputs": [
        {
          "output_type": "stream",
          "text": [
            "cuda:0\n"
          ],
          "name": "stdout"
        }
      ]
    },
    {
      "cell_type": "markdown",
      "metadata": {
        "id": "UooDLvpe-6qb"
      },
      "source": [
        "## Memory Module"
      ]
    },
    {
      "cell_type": "code",
      "metadata": {
        "id": "pm7bl0LiK6Hm"
      },
      "source": [
        "def _convolve(wg, sg, batch_size):\n",
        "  \"\"\"Circular convolution implementation.\"\"\"\n",
        "  result = torch.zeros(wg.size())\n",
        "  for i in range(batch_size):\n",
        "    w = wg[i]\n",
        "    s = sg[i]\n",
        "    assert s.size(0) == 3\n",
        "    t = torch.cat([w[-1:], w, w[:1]])\n",
        "    result[i] = F.conv1d(t.view(1, 1, -1), s.view(1, 1, -1)).view(-1)\n",
        "  if CUDA:\n",
        "      result = result.cuda()\n",
        "  return result\n",
        "\n",
        "class Memory(nn.Module):\n",
        "  def __init__(self, N, M):\n",
        "    super(Memory, self).__init__()\n",
        "\n",
        "    self.M = M\n",
        "    self.N = N\n",
        "    \n",
        "    # The memory bias allows the heads to learn how to initially address\n",
        "    # memory locations by content\n",
        "    self.register_buffer('mem_bias', torch.Tensor(N, M))\n",
        "    std_dev = 1 / np.sqrt(N + M)\n",
        "    nn.init.uniform_(self.mem_bias, -std_dev, std_dev)\n",
        "    \n",
        "  def reset(self, batch_size):\n",
        "    \"\"\"Initialize memory from bias, for start-of-sequence.\"\"\"\n",
        "    self.batch_size = batch_size\n",
        "    self.memory = self.mem_bias.clone().repeat(batch_size, 1, 1)\n",
        "   \n",
        "  def read(self, address):\n",
        "    \"\"\"\n",
        "    :param address: Batched Tensor with Size of batch_size * N, contain value between 0 and 1 with sum equals to 1\n",
        "    :return: Torch batched tensor with Size of batch_size * M, produce by sum over weighted elements of Memory\n",
        "    \"\"\"\n",
        "    return address.unsqueeze(1).matmul(self.memory).squeeze(1)\n",
        "\n",
        "  def write(self, address, erase_vector, add_vector):\n",
        "    self.prev_mem = self.memory\n",
        "    self.memory = torch.Tensor(self.batch_size, self.N, self.M)\n",
        "    if CUDA:\n",
        "      self.memory = self.memory.cuda()\n",
        "    erase = torch.matmul(address.unsqueeze(-1), erase_vector.unsqueeze(1))\n",
        "    add = torch.matmul(address.unsqueeze(-1), add_vector.unsqueeze(1))\n",
        "    self.memory = self.prev_mem * (1 - erase) + add\n",
        "    \n",
        "\n",
        "  def address(self, key_vector, key_strength, gate, shift, sharpen, last_address):\n",
        "    \"\"\"NTM Addressing (according to section 3.3).\n",
        "    Returns a softmax weighting over the rows of the memory matrix.\n",
        "    :param key_vector: The key vector.\n",
        "    :param key_strength: The key strength (focus).\n",
        "    :param gate: Scalar interpolation gate (with previous weighting).\n",
        "    :param shift: Shift weighting.\n",
        "    :param sharpen: Sharpen weighting scalar.\n",
        "    :param last_address: The weighting produced in the previous time step.\n",
        "    \"\"\"\n",
        "    wc = F.softmax(key_strength * F.cosine_similarity(key_vector.unsqueeze(1), self.memory, dim=2), dim=1)\n",
        "    wg = (gate * wc) + (1 - gate) * last_address\n",
        "    ws = _convolve(wg, shift, self.batch_size)\n",
        "    ws = (ws ** sharpen)\n",
        "    wt = torch.true_divide(ws, torch.sum(ws, dim=1).view(-1, 1) + 1e-16)\n",
        "\n",
        "    return wt\n",
        "\n",
        "  def size(self):\n",
        "    return self.N, self.M\n"
      ],
      "execution_count": 3,
      "outputs": []
    },
    {
      "cell_type": "markdown",
      "metadata": {
        "id": "6kNyt0i4qdD6"
      },
      "source": [
        "## Controller Module\n"
      ]
    },
    {
      "cell_type": "markdown",
      "metadata": {
        "id": "XuSGoDtiPCNo"
      },
      "source": [
        "### 1. LSTM"
      ]
    },
    {
      "cell_type": "code",
      "metadata": {
        "id": "hBQzqZ8wqcVG"
      },
      "source": [
        "class LSTMController(nn.Module):\n",
        "  def __init__(self, num_inputs, num_outputs, num_layers):\n",
        "    super(LSTMController, self).__init__()\n",
        "\n",
        "    self.num_inputs  = num_inputs\n",
        "    self.num_layers  = num_layers\n",
        "    self.num_outputs = num_outputs\n",
        "\n",
        "    self.lstm = nn.LSTM(num_inputs, num_outputs, num_layers)\n",
        "\n",
        "    self.lstm_h = nn.Parameter(torch.randn(num_layers, 1, num_outputs) * 0.05) # Why 0.05??\n",
        "    self.lstm_c = nn.Parameter(torch.randn(num_layers, 1, num_outputs) * 0.05) \n",
        "\n",
        "    self.reset_parameters()\n",
        "\n",
        "  def create_new_state(self, batch_size):\n",
        "    # Dimension: (num_layers * num_directions, batch, hidden_size)\n",
        "    lstm_h = self.lstm_h.clone().repeat(1, batch_size, 1)\n",
        "    lstm_c = self.lstm_c.clone().repeat(1, batch_size, 1)\n",
        "    return lstm_h, lstm_c\n",
        "\n",
        "  def reset_parameters(self):\n",
        "    for p in self.lstm.parameters():\n",
        "      if p.dim() == 1:\n",
        "        nn.init.constant_(p, 0)\n",
        "      else:\n",
        "        stdev = 5 / (np.sqrt(self.num_inputs +  self.num_outputs))\n",
        "        nn.init.uniform_(p, -stdev, stdev)\n",
        "\n",
        "  def size(self):\n",
        "    return self.num_inputs, self.num_outputs\n",
        "\n",
        "  def forward(self, x, prev_state):\n",
        "    x = x.unsqueeze(0)\n",
        "    outp, state = self.lstm(x, prev_state)\n",
        "    return outp.squeeze(0), state\n"
      ],
      "execution_count": 4,
      "outputs": []
    },
    {
      "cell_type": "markdown",
      "metadata": {
        "id": "vfXXASFt1TKn"
      },
      "source": [
        "### 2. Feed Forward"
      ]
    },
    {
      "cell_type": "code",
      "metadata": {
        "id": "qBt_xaa8r939"
      },
      "source": [
        "class FFController(nn.Module):\n",
        "  def __init__(self, num_inputs, num_outputs, num_hidden):\n",
        "    super(FFController, self).__init__()\n",
        "\n",
        "    self.num_inputs  = num_inputs\n",
        "    self.num_hidden  = num_hidden\n",
        "    self.num_outputs = num_outputs\n",
        "\n",
        "    self.fc1 = nn.Linear(num_inputs, num_hidden)\n",
        "    self.sigmoid = nn.Sigmoid()\n",
        "    self.fc2 = nn.Linear(num_hidden, num_outputs)\n",
        "    self.reset_parameters()\n",
        "\n",
        "  def reset_parameters(self):\n",
        "    # Initialize the linear layers\n",
        "    nn.init.xavier_uniform_(self.fc1.weight, gain=1.4)\n",
        "    nn.init.normal_(self.fc1.bias, std=0.01)\n",
        "    nn.init.xavier_uniform_(self.fc2.weight, gain=1.4)\n",
        "    nn.init.normal_(self.fc2.bias, std=0.01)\n",
        "  \n",
        "  def size(self):\n",
        "    return self.num_inputs, self.num_outputs\n",
        "\n",
        "  def forward(self, x):\n",
        "    out = self.fc1(x)\n",
        "    out = self.sigmoid(out)\n",
        "    out = self.fc2(out)\n",
        "    return out"
      ],
      "execution_count": 5,
      "outputs": []
    },
    {
      "cell_type": "markdown",
      "metadata": {
        "id": "Emutzzuj7HHz"
      },
      "source": [
        "## Heads"
      ]
    },
    {
      "cell_type": "markdown",
      "metadata": {
        "id": "sQLCFZ6D-QuH"
      },
      "source": [
        "### 1. Base Head"
      ]
    },
    {
      "cell_type": "code",
      "metadata": {
        "id": "5GsYm--m7Io8"
      },
      "source": [
        "class BaseHead(nn.Module):\n",
        "  def __init__(self, memory, controller):\n",
        "    super(BaseHead, self).__init__()\n",
        "\n",
        "    self.memory = memory\n",
        "    _, self.ctrl_size = controller.size()\n",
        "    self.M = memory.M\n",
        "    self.N = memory.N\n",
        "  \n",
        "  def create_new_state(self, batch_size):\n",
        "    raise NotImplementedError\n",
        "\n",
        "  def register_parameters(self):\n",
        "    raise NotImplementedError\n",
        "\n",
        "  def reset_parameters(self):\n",
        "    raise NotImplementedError\n",
        "\n",
        "  def is_read_head(self):\n",
        "    return NotImplementedError\n",
        "\n",
        "  def _address_memory(self, k, B, g, s, L, w_prev):\n",
        "    # Handle Activations\n",
        "    k = F.tanh(k)\n",
        "    B = F.softplus(B)\n",
        "    g = torch.sigmoid(g)\n",
        "    s = F.softmax(s, dim=1)\n",
        "    L = 1 + F.softplus(L)\n",
        "\n",
        "    w = self.memory.address(k, B, g, s, L, w_prev)\n",
        "\n",
        "    return w\n",
        "\n",
        "\n",
        "def _split_cols(mat, lengths):\n",
        "    \"\"\"Split a 2D matrix to variable length columns.\"\"\"\n",
        "    assert mat.size()[1] == sum(lengths), \"Lengths must be summed to num columns\"\n",
        "    l = np.cumsum([0] + lengths)\n",
        "    results = []\n",
        "    for s, e in zip(l[:-1], l[1:]):\n",
        "        results += [mat[:, s:e]]\n",
        "    return results"
      ],
      "execution_count": 6,
      "outputs": []
    },
    {
      "cell_type": "markdown",
      "metadata": {
        "id": "3mlxJUEC-WH1"
      },
      "source": [
        "### 2. Read Head"
      ]
    },
    {
      "cell_type": "code",
      "metadata": {
        "id": "cmQmaKlS-VM5"
      },
      "source": [
        "class ReadHead(BaseHead):\n",
        "  def __init__(self, memory, controller):\n",
        "    super(ReadHead, self).__init__(memory, controller)\n",
        "\n",
        "    # Corresponding to k, β, g, s, γ sizes from the paper\n",
        "    self.read_vector = [self.M, 1, 1, 3, 1]\n",
        "    self.fc_read = nn.Linear(self.ctrl_size, sum(self.read_vector))\n",
        "    self.reset_parameters()\n",
        "  \n",
        "  def create_new_state(self, batch_size):\n",
        "    w_perv = torch.zeros(batch_size, self.N)\n",
        "    if CUDA:\n",
        "      w_perv = w_perv.cuda()\n",
        "    return w_perv\n",
        "\n",
        "  def reset_parameters(self):\n",
        "    nn.init.xavier_uniform_(self.fc_read.weight, gain=1.4)\n",
        "    nn.init.normal_(self.fc_read.bias, std=0.01)\n",
        "\n",
        "  def is_read_head(self):\n",
        "    return True\n",
        "\n",
        "  def forward(self, input, last_w):\n",
        "    out = self.fc_read(input)\n",
        "    K, B, G, S, L = _split_cols(out, self.read_vector)\n",
        "    w = self._address_memory(K, B, G, S, L, last_w)\n",
        "    r = self.memory.read(w)\n",
        "    return r, w"
      ],
      "execution_count": 7,
      "outputs": []
    },
    {
      "cell_type": "markdown",
      "metadata": {
        "id": "X4vG4rqFF8Hw"
      },
      "source": [
        "### 3. Write Head"
      ]
    },
    {
      "cell_type": "code",
      "metadata": {
        "id": "ATTmhBcOF8gx"
      },
      "source": [
        "class WriteHead(BaseHead):\n",
        "  def __init__(self, memory, controller):\n",
        "    super(WriteHead, self).__init__(memory, controller)\n",
        "\n",
        "    #                     K, B, G, S, L, add, erase\n",
        "    self.write_vector = [self.M, 1, 1, 3, 1, self.M, self.M]\n",
        "    self.fc_write = nn.Linear(self.ctrl_size, sum(self.write_vector))\n",
        "    self.reset_parameters()\n",
        "  \n",
        "  def create_new_state(self, batch_size):\n",
        "    w_perv = torch.zeros(batch_size, self.N)\n",
        "    if CUDA:\n",
        "      w_perv = w_perv.cuda()\n",
        "    return w_perv\n",
        "\n",
        "  def reset_parameters(self):\n",
        "    nn.init.xavier_uniform_(self.fc_write.weight, gain=1.4)\n",
        "    nn.init.normal_(self.fc_write.bias, std=0.01)\n",
        "\n",
        "  def is_read_head(self):\n",
        "    return False\n",
        "\n",
        "  def forward(self, input, last_w):\n",
        "    out = self.fc_write(input)\n",
        "    K, B, G, S, L, A, E = _split_cols(out, self.write_vector)\n",
        "    w = self._address_memory(K, B, G, S, L, last_w)\n",
        "    self.memory.write(w, torch.sigmoid(E), F.tanh(A))\n",
        "    return w"
      ],
      "execution_count": 8,
      "outputs": []
    },
    {
      "cell_type": "markdown",
      "metadata": {
        "id": "SM8LKpDfMUGN"
      },
      "source": [
        "## DataPath"
      ]
    },
    {
      "cell_type": "code",
      "metadata": {
        "id": "Hd-44FSlMUep"
      },
      "source": [
        "class DataPath(nn.Module):\n",
        "  \"\"\"A DataPath for NTM.\"\"\"\n",
        "  def __init__(self, num_inputs, num_outputs, controller, memory, heads):\n",
        "    \"\"\"Initialize the DataPath.\n",
        "    :param num_inputs: External input size.\n",
        "    :param num_outputs: External output size.\n",
        "    :param controller: :class:`LSTMController`\n",
        "    :param memory: :class:`Memory`\n",
        "    :param heads: list of :class:`ReadHead` or :class:`WriteHead`\n",
        "    Note: This design allows the flexibility of using any number of read and\n",
        "          write heads independently, also, the order by which the heads are\n",
        "          called in controlled by the user (order in list)\n",
        "    \"\"\"\n",
        "    super(DataPath, self).__init__()\n",
        "\n",
        "    self.num_inputs = num_inputs\n",
        "    self.num_outputs = num_outputs\n",
        "    self.controller = controller\n",
        "    self.memory = memory\n",
        "    self.heads = heads\n",
        "\n",
        "    self.N, self.M = memory.size()\n",
        "    _, self.controller_size = controller.size()\n",
        "\n",
        "    # Initialize the initial previous read values to random biases\n",
        "    self.num_read_heads = 0\n",
        "    self.init_r = []\n",
        "    for head in self.heads:\n",
        "      if head.is_read_head():\n",
        "        init_r_bias = torch.randn(1, self.M) * 0.01\n",
        "        self.register_buffer(\"read{}_bias\".format(self.num_read_heads), init_r_bias.data)\n",
        "        self.init_r += [init_r_bias]\n",
        "        self.num_read_heads += 1\n",
        "\n",
        "    assert self.num_read_heads > 0, \"heads list must contain at least a single read head\"\n",
        "\n",
        "\n",
        "    # Initialize a fully connected layer to produce the actual output:\n",
        "    #   [controller_output; previous_reads ] -> output\n",
        "    # self.fc = nn.Linear(self.controller_size + self.num_read_heads * self.M, num_outputs)\n",
        "    #   [controller_output ] -> output\n",
        "    self.fc = nn.Linear(self.controller_size, num_outputs)\n",
        "    self.reset_parameters()\n",
        "\n",
        "  def create_new_state(self, batch_size):\n",
        "    init_r = [r.clone().repeat(batch_size, 1) for r in self.init_r]\n",
        "    controller_state = self.controller.create_new_state(batch_size)\n",
        "    heads_state = [head.create_new_state(batch_size) for head in self.heads]\n",
        "\n",
        "    return init_r, controller_state, heads_state\n",
        "\n",
        "  def reset_parameters(self):\n",
        "    # Initialize the linear layer\n",
        "    nn.init.xavier_uniform_(self.fc.weight, gain=1)\n",
        "    nn.init.normal_(self.fc.bias, std=0.01)\n",
        "    \n",
        "\n",
        "  def forward(self, x, prev_state):\n",
        "    \"\"\"DataPath forward function.\n",
        "    :param x: input vector (batch_size x num_inputs)\n",
        "    :param prev_state: The previous state of the DataPath\n",
        "    \"\"\"\n",
        "    # Unpack the previous state\n",
        "    prev_reads, prev_controller_state, prev_heads_states = prev_state\n",
        "\n",
        "    # Use the controller to get an embeddings\n",
        "    if CUDA:\n",
        "      x = x.cuda()\n",
        "      for i in range(len(prev_reads)):\n",
        "        prev_reads[i] = prev_reads[i].cuda()\n",
        "\n",
        "    inp = torch.cat([x] + prev_reads, dim=1)\n",
        "    if CUDA:\n",
        "      inp = inp.cuda()\n",
        "    controller_outp, controller_state = self.controller(inp, prev_controller_state)\n",
        "\n",
        "    # Read/Write from the list of heads\n",
        "    reads = []\n",
        "    heads_states = []\n",
        "    for head, prev_head_state in zip(self.heads, prev_heads_states):\n",
        "      if head.is_read_head():\n",
        "        r, head_state = head(controller_outp, prev_head_state)\n",
        "        if CUDA:\n",
        "          r = r.cuda()\n",
        "          head_state = head_state.cuda()\n",
        "        reads += [r]\n",
        "      else:\n",
        "        head_state = head(controller_outp, prev_head_state)\n",
        "        if CUDA:\n",
        "          head_state = head_state.cuda()\n",
        "      heads_states += [head_state]\n",
        "\n",
        "    # Generate Output\n",
        "    # inp2 = torch.cat([controller_outp] + reads, dim=1)\n",
        "    # o = torch.sigmoid(self.fc(inp2))\n",
        "    o = torch.sigmoid(self.fc(controller_outp))\n",
        "\n",
        "    # Pack the current state\n",
        "    state = (reads, controller_state, heads_states)\n",
        "\n",
        "    return o, state"
      ],
      "execution_count": 9,
      "outputs": []
    },
    {
      "cell_type": "markdown",
      "metadata": {
        "id": "AH2_OV-yHfC6"
      },
      "source": [
        "## NTM"
      ]
    },
    {
      "cell_type": "code",
      "metadata": {
        "id": "bVH6r5dPHWG-"
      },
      "source": [
        "class NTM(nn.Module):\n",
        "\n",
        "  def __init__(self, num_inputs, num_outputs, controller_size, controller_layers, num_read_heads, num_write_heads, N, M):\n",
        "    \"\"\"Initialize an NTM.\n",
        "    :param num_inputs: External number of inputs.\n",
        "    :param num_outputs: External number of outputs.\n",
        "    :param controller_size: The size of the internal representation.\n",
        "    :param controller_layers: Controller number of layers.\n",
        "    :param num_heads: Number of heads.\n",
        "    :param N: Number of rows in the memory bank.\n",
        "    :param M: Number of cols/features in the memory bank.\n",
        "    \"\"\"\n",
        "    super(NTM, self).__init__()\n",
        "\n",
        "    # Save args\n",
        "    self.num_inputs = num_inputs\n",
        "    self.num_outputs = num_outputs\n",
        "    self.controller_size = controller_size\n",
        "    self.controller_layers = controller_layers\n",
        "    self.num_read_heads = num_read_heads\n",
        "    self.num_write_heads = num_write_heads\n",
        "    self.N = N\n",
        "    self.M = M\n",
        "\n",
        "    # Create the NTM components\n",
        "    memory = Memory(N, M)\n",
        "    controller = LSTMController(num_inputs + M*(num_read_heads), controller_size, controller_layers)\n",
        "    # controller = FFController(num_inputs + M*num_heads, controller_size, controller_layers)\n",
        "    heads = nn.ModuleList([ReadHead(memory, controller) for _ in range(num_read_heads)])\n",
        "    heads += [WriteHead(memory, controller) for _ in range(num_write_heads)]\n",
        "\n",
        "    self.data_path = DataPath(num_inputs, num_outputs, controller, memory, heads)\n",
        "    self.memory = memory\n",
        "\n",
        "  def init_sequence(self, batch_size):\n",
        "    \"\"\"Initializing the state.\"\"\"\n",
        "    self.batch_size = batch_size\n",
        "    self.memory.reset(batch_size)\n",
        "    self.previous_state = self.data_path.create_new_state(batch_size)\n",
        "\n",
        "  def forward(self, x=None):\n",
        "    if x is None:\n",
        "      x = torch.zeros(self.batch_size, self.num_inputs)\n",
        "    if CUDA:\n",
        "      x = x.cuda()\n",
        "    o, self.previous_state = self.data_path(x, self.previous_state)\n",
        "    return o, self.previous_state\n",
        "\n",
        "  def calculate_num_params(self):\n",
        "    \"\"\"Returns the total number of parameters.\"\"\"\n",
        "    num_params = 0\n",
        "    for p in self.parameters():\n",
        "      num_params += p.data.view(-1).size(0)\n",
        "    \n",
        "    return num_params"
      ],
      "execution_count": 10,
      "outputs": []
    },
    {
      "cell_type": "markdown",
      "metadata": {
        "id": "VoH1zpLxa6TJ"
      },
      "source": [
        "## Tasks\n"
      ]
    },
    {
      "cell_type": "code",
      "metadata": {
        "id": "05LAFnwGQ2WZ"
      },
      "source": [
        "TASKS = {}"
      ],
      "execution_count": 11,
      "outputs": []
    },
    {
      "cell_type": "markdown",
      "metadata": {
        "id": "_pbDkrqvQuRe"
      },
      "source": [
        "### 1. Copy Task"
      ]
    },
    {
      "cell_type": "code",
      "metadata": {
        "id": "wzAN675DQ3Ee"
      },
      "source": [
        "\"\"\"Copy Task NTM model.\"\"\"\n",
        "\n",
        "# Generator of randomized test sequences\n",
        "def copy_dataloader(num_batches, batch_size, seq_width, min_len, max_len):\n",
        "  \"\"\"Generator of random sequences for the copy task.\n",
        "  Creates random batches of \"bits\" sequences.\n",
        "  All the sequences within each batch have the same length.\n",
        "  The length is [`min_len`, `max_len`]\n",
        "  :param num_batches: Total number of batches to generate.\n",
        "  :param seq_width: The width of each item in the sequence.\n",
        "  :param batch_size: Batch size.\n",
        "  :param min_len: Sequence minimum length.\n",
        "  :param max_len: Sequence maximum length.\n",
        "  NOTE: The input width is `seq_width + 1`, the additional input\n",
        "  contain the delimiter.\n",
        "  \"\"\"\n",
        "  for batch_num in range(num_batches):\n",
        "\n",
        "    # All batches have the same sequence length\n",
        "    seq_len = random.randint(min_len, max_len)\n",
        "    seq = np.random.binomial(1, 0.5, (seq_len, batch_size, seq_width))\n",
        "    seq = torch.from_numpy(seq)\n",
        "\n",
        "    # The input includes an additional channel used for the delimiter\n",
        "    inp = torch.zeros(seq_len + 1, batch_size, seq_width + 1)\n",
        "    inp[:seq_len, :, :seq_width] = seq\n",
        "    inp[seq_len, :, seq_width] = 1.0 # delimiter in our control channel\n",
        "    outp = seq.clone()\n",
        "    if CUDA:\n",
        "      inp = inp.cuda()\n",
        "      outp = outp.cuda()\n",
        "\n",
        "    yield batch_num+1, inp.float(), outp.float()\n",
        "\n",
        "\n",
        "@attrs\n",
        "class CopyTaskParams(object):\n",
        "  name = attrib(default=\"copy-task\")\n",
        "  controller_size   = attrib(default=100, converter=int)\n",
        "  controller_layers = attrib(default=1, converter=int)\n",
        "  num_read_heads    = attrib(default=1, converter=int)\n",
        "  num_write_heads   = attrib(default=1, converter=int)\n",
        "  sequence_width    = attrib(default=8, converter=int)\n",
        "  sequence_min_len  = attrib(default=1,converter=int)\n",
        "  sequence_max_len  = attrib(default=20, converter=int)\n",
        "  memory_n          = attrib(default=128, converter=int)\n",
        "  memory_m          = attrib(default=20, converter=int)\n",
        "  num_batches       = attrib(default=50000, converter=int)\n",
        "  batch_size        = attrib(default=1, converter=int)\n",
        "  rmsprop_lr        = attrib(default=1e-4, converter=float)\n",
        "  rmsprop_momentum  = attrib(default=0.9, converter=float)\n",
        "  rmsprop_alpha     = attrib(default=0.95, converter=float)\n",
        "\n",
        "@attrs\n",
        "class CopyTaskModelTraining(object):\n",
        "  params = attrib(default=Factory(CopyTaskParams))\n",
        "  net = attrib()\n",
        "  dataloader = attrib()\n",
        "  criterion = attrib()\n",
        "  optimizer = attrib()\n",
        "\n",
        "  @net.default\n",
        "  def default_net(self):\n",
        "    # We have 1 additional input for the delimiter which is passed on a\n",
        "    # separate \"control\" channel\n",
        "    net = NTM(self.params.sequence_width + 1, self.params.sequence_width,\n",
        "              self.params.controller_size, self.params.controller_layers,\n",
        "              self.params.num_read_heads, self.params.num_write_heads,\n",
        "              self.params.memory_n, self.params.memory_m)\n",
        "    if CUDA:\n",
        "      net = net.cuda()\n",
        "    return net\n",
        "\n",
        "  @dataloader.default\n",
        "  def default_dataloader(self):\n",
        "    return copy_dataloader(self.params.num_batches, self.params.batch_size,\n",
        "                      self.params.sequence_width,\n",
        "                      self.params.sequence_min_len, self.params.sequence_max_len)\n",
        "\n",
        "  @criterion.default\n",
        "  def default_criterion(self):\n",
        "    return nn.BCELoss()\n",
        "\n",
        "  @optimizer.default\n",
        "  def default_optimizer(self):\n",
        "    return optim.RMSprop(self.net.parameters(),\n",
        "                        momentum=self.params.rmsprop_momentum,\n",
        "                        alpha=self.params.rmsprop_alpha,\n",
        "                        lr=self.params.rmsprop_lr)\n",
        "    \n",
        "TASKS['copy'] = (CopyTaskModelTraining, CopyTaskParams)"
      ],
      "execution_count": 12,
      "outputs": []
    },
    {
      "cell_type": "markdown",
      "metadata": {
        "id": "OqQvn22mRFN6"
      },
      "source": [
        "### 2. Repeated Copy"
      ]
    },
    {
      "cell_type": "code",
      "metadata": {
        "id": "W6KZiS6WRIm4"
      },
      "source": [
        "\"\"\"Repeated Copy Task NTM model.\"\"\"\n",
        "\n",
        "# Generator of randomized test sequences\n",
        "def recopy_dataloader(num_batches, batch_size, seq_width, seq_min_len, seq_max_len, repeat_min, repeat_max):\n",
        "  \"\"\"Generator of random sequences for the repeat copy task.\n",
        "  Creates random batches of \"bits\" sequences.\n",
        "  All the sequences within each batch have the same length.\n",
        "  The length is between `min_len` to `max_len`\n",
        "  :param num_batches: Total number of batches to generate.\n",
        "  :param batch_size: Batch size.\n",
        "  :param seq_width: The width of each item in the sequence.\n",
        "  :param seq_min_len: Sequence minimum length.\n",
        "  :param seq_max_len: Sequence maximum length.\n",
        "  :param repeat_min: Minimum repeatitions.\n",
        "  :param repeat_max: Maximum repeatitions.\n",
        "  NOTE: The input width is `seq_width + 2`. One additional input\n",
        "  is used for the delimiter, and one for the number of repetitions.\n",
        "  The output width is `seq_width` + 1, the additional input is used\n",
        "  by the network to generate an end-marker, so we can be sure the\n",
        "  network counted correctly.\n",
        "  \"\"\"\n",
        "  # Some normalization constants\n",
        "  reps_mean = (repeat_max + repeat_min) / 2\n",
        "  reps_var = (((repeat_max - repeat_min + 1) ** 2) - 1) / 12\n",
        "  reps_std = np.sqrt(reps_var)\n",
        "  def rpt_normalize(reps):\n",
        "    return (reps - reps_mean) / reps_std\n",
        "\n",
        "  for batch_num in range(num_batches):\n",
        "\n",
        "    # All batches have the same sequence length and number of reps\n",
        "    seq_len = random.randint(seq_min_len, seq_max_len)\n",
        "    reps = random.randint(repeat_min, repeat_max)\n",
        "\n",
        "    # Generate the sequence\n",
        "    seq = np.random.binomial(1, 0.5, (seq_len, batch_size, seq_width))\n",
        "    seq = torch.from_numpy(seq)\n",
        "\n",
        "    # The input includes 2 additional channels, for end-of-sequence and num-reps\n",
        "    inp = torch.zeros(seq_len + 2, batch_size, seq_width + 2)\n",
        "    inp[:seq_len, :, :seq_width] = seq\n",
        "    inp[seq_len, :, seq_width] = 1.0\n",
        "    inp[seq_len+1, :, seq_width+1] = rpt_normalize(reps)\n",
        "\n",
        "    # The output contain the repeated sequence + end marker\n",
        "    outp = torch.zeros(seq_len * reps + 1, batch_size, seq_width + 1)\n",
        "    outp[:seq_len * reps, :, :seq_width] = seq.clone().repeat(reps, 1, 1)\n",
        "    outp[seq_len * reps, :, seq_width] = 1.0 # End marker\n",
        "\n",
        "    if CUDA:\n",
        "      inp = inp.cuda()\n",
        "      outp = outp.cuda()\n",
        "\n",
        "    yield batch_num+1, inp.float(), outp.float()\n",
        "\n",
        "\n",
        "@attrs\n",
        "class RepeatCopyTaskParams(object):\n",
        "  name = attrib(default=\"recopy-task\")\n",
        "  controller_size = attrib(default=100, converter=int)\n",
        "  controller_layers = attrib(default=1, converter=int)\n",
        "  num_read_heads = attrib(default=1, converter=int)\n",
        "  num_write_heads = attrib(default=1, converter=int)\n",
        "  sequence_width = attrib(default=8, converter=int)\n",
        "  sequence_min_len = attrib(default=1, converter=int)\n",
        "  sequence_max_len = attrib(default=10, converter=int)\n",
        "  repeat_min = attrib(default=1, converter=int)\n",
        "  repeat_max = attrib(default=10, converter=int)\n",
        "  memory_n = attrib(default=128, converter=int)\n",
        "  memory_m = attrib(default=20, converter=int)\n",
        "  num_batches = attrib(default=250000, converter=int)\n",
        "  batch_size = attrib(default=1, converter=int)\n",
        "  rmsprop_lr = attrib(default=1e-4, converter=float)\n",
        "  rmsprop_momentum = attrib(default=0.9, converter=float)\n",
        "  rmsprop_alpha = attrib(default=0.95, converter=float)\n",
        "\n",
        "\n",
        "@attrs\n",
        "class RepeatCopyTaskModelTraining(object):\n",
        "  params = attrib(default=Factory(RepeatCopyTaskParams))\n",
        "  net = attrib()\n",
        "  dataloader = attrib()\n",
        "  criterion = attrib()\n",
        "  optimizer = attrib()\n",
        "\n",
        "  @net.default\n",
        "  def default_net(self):\n",
        "    # See dataloader documentation\n",
        "    net = NTM(self.params.sequence_width + 2, self.params.sequence_width + 1,\n",
        "                        self.params.controller_size, self.params.controller_layers,\n",
        "                          self.params.num_read_heads, self.params.num_write_heads,\n",
        "                          self.params.memory_n, self.params.memory_m)\n",
        "    if CUDA:\n",
        "      net = net.cuda()\n",
        "    return net\n",
        "\n",
        "  @dataloader.default\n",
        "  def default_dataloader(self):\n",
        "    return recopy_dataloader(self.params.num_batches, self.params.batch_size,\n",
        "                      self.params.sequence_width,\n",
        "                      self.params.sequence_min_len, self.params.sequence_max_len,\n",
        "                      self.params.repeat_min, self.params.repeat_max)\n",
        "\n",
        "  @criterion.default\n",
        "  def default_criterion(self):\n",
        "    return nn.BCELoss()\n",
        "\n",
        "  @optimizer.default\n",
        "  def default_optimizer(self):\n",
        "    return optim.RMSprop(self.net.parameters(),\n",
        "                          momentum=self.params.rmsprop_momentum,\n",
        "                          alpha=self.params.rmsprop_alpha,\n",
        "                          lr=self.params.rmsprop_lr)\n",
        "\n",
        "TASKS['recopy'] = (RepeatCopyTaskModelTraining, RepeatCopyTaskParams)"
      ],
      "execution_count": 13,
      "outputs": []
    },
    {
      "cell_type": "markdown",
      "metadata": {
        "id": "v1QL2TeEchCv"
      },
      "source": [
        "## Training Functions\n"
      ]
    },
    {
      "cell_type": "markdown",
      "metadata": {
        "id": "xqHo04M2R599"
      },
      "source": [
        "### Helper Parameter and Fucntions"
      ]
    },
    {
      "cell_type": "code",
      "metadata": {
        "id": "HtK-GK-zsTa6"
      },
      "source": [
        "def get_ms():\n",
        "  return time.time() * 1000\n",
        "\n",
        "def progress_clean():\n",
        "  \"\"\"Clean the progress bar.\"\"\"\n",
        "  print(\"\\r{}\".format(\" \" * 80), end='\\r')\n",
        "\n",
        "def progress_bar(batch_num, report_interval, last_loss):\n",
        "  \"\"\"Prints the progress until the next report.\"\"\"\n",
        "  progress = (((batch_num-1) % report_interval) + 1) / report_interval\n",
        "  fill = int(progress * 40)\n",
        "  print(\"\\r[{}{}]: {} (Loss: {:.4f})\".format(\"=\" * (fill - 1) + \">\", \" \" * (40 - fill), batch_num, last_loss), end='')\n",
        "\n",
        "def save_checkpoint(net, name, batch_num, losses, costs, seq_lengths, checkpoint_path='./'):\n",
        "  progress_clean()\n",
        "\n",
        "  basename = \"{}/{}-{}-batch-{}\".format(checkpoint_path, name, SEED, batch_num)\n",
        "  model_fname = basename + \".model\"\n",
        "  print(\"Saving model checkpoint to: '{}'\".format(model_fname))\n",
        "  torch.save(net.state_dict(), model_fname)\n",
        "\n",
        "  # Save the training history\n",
        "  train_fname = basename + \".json\"\n",
        "  print(\"Saving model training history to '{}'\".format(train_fname))\n",
        "  content = {\n",
        "    \"loss\": losses,\n",
        "    \"cost\": costs,\n",
        "    \"seq_lengths\": seq_lengths\n",
        "  }\n",
        "  open(train_fname, 'wt').write(json.dumps(content))"
      ],
      "execution_count": 14,
      "outputs": []
    },
    {
      "cell_type": "markdown",
      "metadata": {
        "id": "dpWvJgbMsZrY"
      },
      "source": [
        "### Training Fucntions"
      ]
    },
    {
      "cell_type": "code",
      "metadata": {
        "id": "qGmGFIv3cpKK"
      },
      "source": [
        "\"\"\"Training for the Copy Task in Neural Turing Machines.\"\"\"\n",
        "\n",
        "def clip_grads(net):\n",
        "  \"\"\"Gradient clipping to the range [10, 10].\"\"\"\n",
        "  parameters = list(filter(lambda p: p.grad is not None, net.parameters()))\n",
        "  for p in parameters:\n",
        "    p.grad.data.clamp_(-10, 10)\n",
        "\n",
        "def evaluate(net, criterion, X, Y):\n",
        "  \"\"\"Evaluate a single batch (without training).\"\"\"\n",
        "  inp_seq_len = X.size(0)\n",
        "  outp_seq_len, batch_size, _ = Y.size()\n",
        "\n",
        "  # New sequence\n",
        "  net.init_sequence(batch_size)\n",
        "\n",
        "  # Feed the sequence + delimiter\n",
        "  states = []\n",
        "\n",
        "      \n",
        "  for i in range(inp_seq_len):\n",
        "    if CUDA:\n",
        "      o, state = data_parallel(net, X[i])\n",
        "    else:\n",
        "      o, state = net(X[i])\n",
        "    states += [state]\n",
        "\n",
        "  if CUDA:\n",
        "      X = X.cuda()\n",
        "      Y = Y.cuda()\n",
        "\n",
        "  # Read the output (no input given)\n",
        "  y_out = torch.zeros(Y.size())\n",
        "  if CUDA:\n",
        "      y_out = y_out.cuda()\n",
        "\n",
        "  for i in range(outp_seq_len):\n",
        "    if CUDA:\n",
        "      y_out[i], state = data_parallel(net, None)\n",
        "    else:\n",
        "      y_out[i], state = net()\n",
        "    states += [state]\n",
        "\n",
        "  loss = criterion(y_out, Y)\n",
        "\n",
        "  if CUDA:\n",
        "    y_out_binarized = y_out.cpu().data\n",
        "  else:\n",
        "    y_out_binarized = y_out.clone().data\n",
        "  y_out_binarized.apply_(lambda x: 0 if x < 0.5 else 1)\n",
        "\n",
        "  # The cost is the number of error bits per sequence\n",
        "  cost = torch.sum(torch.abs(y_out_binarized - Y.cpu().data))\n",
        "\n",
        "  result = {\n",
        "    'loss': loss.item(),\n",
        "    'cost': cost / batch_size,\n",
        "    'y_out': y_out,\n",
        "    'y_out_binarized': y_out_binarized,\n",
        "    'states': states\n",
        "  }\n",
        "\n",
        "  return result\n",
        "\n",
        "def train_batch(net, criterion, optimizer, X, Y):\n",
        "  \"\"\"Trains a single batch.\"\"\"\n",
        "  optimizer.zero_grad()\n",
        "  inp_seq_len = X.size(0)\n",
        "  outp_seq_len, batch_size, _ = Y.size()\n",
        "\n",
        "  # New sequence\n",
        "  net.init_sequence(batch_size)\n",
        "\n",
        "\n",
        "  # Feed the sequence + delimiter\n",
        "  for i in range(inp_seq_len):\n",
        "    if CUDA:\n",
        "      data_parallel(net, X[i])\n",
        "    else:\n",
        "      net(X[i])\n",
        "\n",
        "  if CUDA:\n",
        "      X = X.cuda()\n",
        "      Y = Y.cuda()\n",
        "      \n",
        "\n",
        "  # Read the output (no input given)\n",
        "  y_out = torch.zeros(Y.size())\n",
        "  for i in range(outp_seq_len):\n",
        "    if CUDA:\n",
        "      y_out[i], _ = data_parallel(net, None)\n",
        "    else:\n",
        "      y_out[i], _ = net()\n",
        "\n",
        "  if CUDA:\n",
        "    Y = Y.cuda()\n",
        "    y_out = y_out.cuda()\n",
        "\n",
        "\n",
        "  loss = criterion(y_out, Y)\n",
        "  loss.backward()\n",
        "  clip_grads(net)\n",
        "  optimizer.step()\n",
        "\n",
        "  if CUDA:\n",
        "    y_out_binarized = y_out.cpu().data\n",
        "  else:\n",
        "    y_out_binarized = y_out.clone().data\n",
        "  y_out_binarized.apply_(lambda x: 0 if x < 0.5 else 1)\n",
        "\n",
        "  # The cost is the number of error bits per sequence\n",
        "  cost = torch.sum(torch.abs(y_out_binarized - Y.cpu().data))\n",
        "\n",
        "  return loss.item(), cost.item() / batch_size\n",
        "\n",
        "def train_model(model, report_interval=500, checkpoint_interval=500, checkpoint_path='./'):\n",
        "  num_batches = model.params.num_batches\n",
        "  batch_size = model.params.batch_size\n",
        "\n",
        "  losses = []\n",
        "  costs = []\n",
        "  seq_lengths = []\n",
        "  start_ms = get_ms()\n",
        "  for batch_num, x, y in model.dataloader:\n",
        "    if CUDA:\n",
        "      x = x.cuda()\n",
        "      y = y.cuda()\n",
        "\n",
        "    loss, cost = train_batch(model.net, model.criterion, model.optimizer, x, y)\n",
        "    losses += [loss]\n",
        "    costs += [cost]\n",
        "    seq_lengths += [y.size(0)]\n",
        "\n",
        "    # Update the progress bar\n",
        "    progress_bar(batch_num, report_interval, loss)\n",
        "\n",
        "    # Report\n",
        "    if batch_num % report_interval == 0:\n",
        "      mean_loss = np.array(losses[-report_interval:]).mean()\n",
        "      mean_cost = np.array(costs[-report_interval:]).mean()\n",
        "      mean_time = int(((get_ms() - start_ms) / report_interval) / batch_size)\n",
        "      progress_clean()\n",
        "      print(\"Batch {} Loss: {} Cost: {} Time: {} ms/sequence\".format(batch_num, mean_loss, mean_cost, mean_time))\n",
        "      start_ms = get_ms()\n",
        "\n",
        "    # Checkpoint\n",
        "    if (checkpoint_interval != 0) and (batch_num % checkpoint_interval == 0):\n",
        "      save_checkpoint(model.net, model.params.name, batch_num, losses, costs, seq_lengths, checkpoint_path)"
      ],
      "execution_count": 15,
      "outputs": []
    },
    {
      "cell_type": "markdown",
      "metadata": {
        "id": "P1BGHZ5FSCFg"
      },
      "source": [
        "## Training *Process*"
      ]
    },
    {
      "cell_type": "markdown",
      "metadata": {
        "id": "wLogvmLfSQH-"
      },
      "source": [
        "### 1. Train Copy Task"
      ]
    },
    {
      "cell_type": "code",
      "metadata": {
        "id": "W7N39E629GIv"
      },
      "source": [
        "SEED = 100\n",
        "NUM_BATCH = 20000\n",
        "INTERVAL = 500\n",
        "BATCH_SIZE = 1\n",
        "PATH = './res_copy'\n",
        "TASK = 'recopy'"
      ],
      "execution_count": 16,
      "outputs": []
    },
    {
      "cell_type": "code",
      "metadata": {
        "id": "I_OjjDSaQI2Y"
      },
      "source": [
        "np.random.seed(SEED)\n",
        "torch.manual_seed(SEED)\n",
        "random.seed(SEED)\n",
        "if CUDA:\n",
        "  torch.cuda.manual_seed(SEED)\n",
        "\n",
        "# Initialize the Model\n",
        "model_cls, params_cls = TASKS[TASK]\n",
        "model = model_cls(params=params_cls(num_batches=NUM_BATCH, batch_size=BATCH_SIZE))"
      ],
      "execution_count": 17,
      "outputs": []
    },
    {
      "cell_type": "code",
      "metadata": {
        "id": "DetgAvFnQM5F",
        "outputId": "fbc04ea2-8989-4b18-8b46-ae132b4722d1",
        "colab": {
          "base_uri": "https://localhost:8080/",
          "height": 364
        }
      },
      "source": [
        "model.net"
      ],
      "execution_count": 18,
      "outputs": [
        {
          "output_type": "execute_result",
          "data": {
            "text/plain": [
              "NTM(\n",
              "  (data_path): DataPath(\n",
              "    (controller): LSTMController(\n",
              "      (lstm): LSTM(30, 100)\n",
              "    )\n",
              "    (memory): Memory()\n",
              "    (heads): ModuleList(\n",
              "      (0): ReadHead(\n",
              "        (memory): Memory()\n",
              "        (fc_read): Linear(in_features=100, out_features=26, bias=True)\n",
              "      )\n",
              "      (1): WriteHead(\n",
              "        (memory): Memory()\n",
              "        (fc_write): Linear(in_features=100, out_features=66, bias=True)\n",
              "      )\n",
              "    )\n",
              "    (fc): Linear(in_features=100, out_features=9, bias=True)\n",
              "  )\n",
              "  (memory): Memory()\n",
              ")"
            ]
          },
          "metadata": {
            "tags": []
          },
          "execution_count": 18
        }
      ]
    },
    {
      "cell_type": "code",
      "metadata": {
        "id": "zNQX7oYlpfkd",
        "outputId": "e8e416f1-e32d-4426-f35c-1ac61ac19927",
        "colab": {
          "base_uri": "https://localhost:8080/",
          "height": 1000
        }
      },
      "source": [
        "# Train Model\n",
        "train_model(model, INTERVAL, INTERVAL, PATH)"
      ],
      "execution_count": null,
      "outputs": [
        {
          "output_type": "stream",
          "text": [
            "/app/anaconda3/envs/NTM/lib/python3.7/site-packages/torch/nn/functional.py:1614: UserWarning: nn.functional.tanh is deprecated. Use torch.tanh instead.\n",
            "  warnings.warn(\"nn.functional.tanh is deprecated. Use torch.tanh instead.\")\n"
          ],
          "name": "stderr"
        },
        {
          "output_type": "stream",
          "text": [
            "Batch 500 Loss: 0.6365328073501587 Cost: 117.296 Time: 124 ms/sequence\n",
            "Saving model checkpoint to: './res_copy/recopy-task-100-batch-500.model'\n",
            "Saving model training history to './res_copy/recopy-task-100-batch-500.json'\n",
            "Batch 1000 Loss: 0.6061002610325813 Cost: 103.046 Time: 121 ms/sequence\n",
            "Saving model checkpoint to: './res_copy/recopy-task-100-batch-1000.model'\n",
            "Saving model training history to './res_copy/recopy-task-100-batch-1000.json'\n",
            "Batch 1500 Loss: 0.5838086518645287 Cost: 104.726 Time: 125 ms/sequence\n",
            "Saving model checkpoint to: './res_copy/recopy-task-100-batch-1500.model'\n",
            "Saving model training history to './res_copy/recopy-task-100-batch-1500.json'\n",
            "Batch 2000 Loss: 0.5714259880185127 Cost: 100.418 Time: 127 ms/sequence\n",
            "Saving model checkpoint to: './res_copy/recopy-task-100-batch-2000.model'\n",
            "Saving model training history to './res_copy/recopy-task-100-batch-2000.json'\n",
            "Batch 2500 Loss: 0.5576927169561386 Cost: 96.5 Time: 123 ms/sequence\n",
            "Saving model checkpoint to: './res_copy/recopy-task-100-batch-2500.model'\n",
            "Saving model training history to './res_copy/recopy-task-100-batch-2500.json'\n",
            "Batch 3000 Loss: 0.539363512545824 Cost: 91.016 Time: 120 ms/sequence\n",
            "Saving model checkpoint to: './res_copy/recopy-task-100-batch-3000.model'\n",
            "Saving model training history to './res_copy/recopy-task-100-batch-3000.json'\n",
            "Batch 3500 Loss: 0.5309678381085395 Cost: 92.018 Time: 124 ms/sequence\n",
            "Saving model checkpoint to: './res_copy/recopy-task-100-batch-3500.model'\n",
            "Saving model training history to './res_copy/recopy-task-100-batch-3500.json'\n",
            "Batch 4000 Loss: 0.5239957547783851 Cost: 87.516 Time: 120 ms/sequence\n",
            "Saving model checkpoint to: './res_copy/recopy-task-100-batch-4000.model'\n",
            "Saving model training history to './res_copy/recopy-task-100-batch-4000.json'\n",
            "Batch 4500 Loss: 0.5190061945468187 Cost: 87.764 Time: 120 ms/sequence\n",
            "Saving model checkpoint to: './res_copy/recopy-task-100-batch-4500.model'\n",
            "Saving model training history to './res_copy/recopy-task-100-batch-4500.json'\n",
            "Batch 5000 Loss: 0.5111398530453444 Cost: 82.824 Time: 116 ms/sequence\n",
            "Saving model checkpoint to: './res_copy/recopy-task-100-batch-5000.model'\n",
            "Saving model training history to './res_copy/recopy-task-100-batch-5000.json'\n",
            "Batch 5500 Loss: 0.5053277144134045 Cost: 87.438 Time: 121 ms/sequence\n",
            "Saving model checkpoint to: './res_copy/recopy-task-100-batch-5500.model'\n",
            "Saving model training history to './res_copy/recopy-task-100-batch-5500.json'\n",
            "Batch 6000 Loss: 0.5145643816292286 Cost: 86.134 Time: 119 ms/sequence\n",
            "Saving model checkpoint to: './res_copy/recopy-task-100-batch-6000.model'\n",
            "Saving model training history to './res_copy/recopy-task-100-batch-6000.json'\n",
            "Batch 6500 Loss: 0.508209182113409 Cost: 88.582 Time: 121 ms/sequence\n",
            "Saving model checkpoint to: './res_copy/recopy-task-100-batch-6500.model'\n",
            "Saving model training history to './res_copy/recopy-task-100-batch-6500.json'\n",
            "Batch 7000 Loss: 0.5079312828779221 Cost: 91.412 Time: 125 ms/sequence\n",
            "Saving model checkpoint to: './res_copy/recopy-task-100-batch-7000.model'\n",
            "Saving model training history to './res_copy/recopy-task-100-batch-7000.json'\n",
            "Batch 7500 Loss: 0.5081535675376654 Cost: 90.79 Time: 126 ms/sequence\n",
            "Saving model checkpoint to: './res_copy/recopy-task-100-batch-7500.model'\n",
            "Saving model training history to './res_copy/recopy-task-100-batch-7500.json'\n",
            "Batch 8000 Loss: 0.4961332107707858 Cost: 83.754 Time: 117 ms/sequence\n",
            "Saving model checkpoint to: './res_copy/recopy-task-100-batch-8000.model'\n",
            "Saving model training history to './res_copy/recopy-task-100-batch-8000.json'\n",
            "Batch 8500 Loss: 0.49883744469285013 Cost: 86.858 Time: 121 ms/sequence\n",
            "Saving model checkpoint to: './res_copy/recopy-task-100-batch-8500.model'\n",
            "Saving model training history to './res_copy/recopy-task-100-batch-8500.json'\n",
            "Batch 9000 Loss: 0.4865624277368188 Cost: 84.254 Time: 121 ms/sequence\n",
            "Saving model checkpoint to: './res_copy/recopy-task-100-batch-9000.model'\n",
            "Saving model training history to './res_copy/recopy-task-100-batch-9000.json'\n",
            "[===================>                    ]: 9259 (Loss: 0.3969)"
          ],
          "name": "stdout"
        }
      ]
    },
    {
      "cell_type": "markdown",
      "metadata": {
        "id": "jBjXrnvnSGbh"
      },
      "source": [
        "## Plot Result"
      ]
    },
    {
      "cell_type": "code",
      "metadata": {
        "id": "N4mYEb3FXA_k"
      },
      "source": [
        "import matplotlib.pyplot as plt\n",
        "import numpy as np\n",
        "import pandas as pd\n",
        "\n",
        "from glob import glob\n",
        "import json\n",
        "import os\n",
        "import sys\n",
        "sys.path.append(os.path.abspath(PATH))\n",
        "\n",
        "%matplotlib inline"
      ],
      "execution_count": 86,
      "outputs": []
    },
    {
      "cell_type": "code",
      "metadata": {
        "id": "Hbf2HS3iYA38",
        "outputId": "2ec92e9b-8e72-4bb3-bf99-3506ccd2ac43",
        "colab": {
          "base_uri": "https://localhost:8080/",
          "height": 34
        }
      },
      "source": [
        "batch_num = NUM_BATCH - INTERVAL\n",
        "files = glob(PATH + '/*-{}.json'.format(batch_num))\n",
        "files"
      ],
      "execution_count": 87,
      "outputs": [
        {
          "output_type": "execute_result",
          "data": {
            "text/plain": [
              "['./res2/copy-task-100-batch-19500.json']"
            ]
          },
          "metadata": {
            "tags": []
          },
          "execution_count": 87
        }
      ]
    },
    {
      "cell_type": "code",
      "metadata": {
        "id": "EusQWbyAWwQs",
        "outputId": "e806231b-af4c-4898-e5e0-a8676465ec42",
        "colab": {
          "base_uri": "https://localhost:8080/",
          "height": 34
        }
      },
      "source": [
        "# Read the metrics from the .json files\n",
        "history = [json.loads(open(fname, \"rt\").read()) for fname in files]\n",
        "training = np.array([(x['cost'], x['loss'], x['seq_lengths']) for x in history])\n",
        "print(\"Training history (seed x metric x sequence) =\", training.shape)"
      ],
      "execution_count": 88,
      "outputs": [
        {
          "output_type": "stream",
          "text": [
            "Training history (seed x metric x sequence) = (1, 3, 19500)\n"
          ],
          "name": "stdout"
        }
      ]
    },
    {
      "cell_type": "code",
      "metadata": {
        "id": "weyHLR-XWv6L",
        "outputId": "35c3d69e-b63c-4a1d-80e9-28695ba95dc1",
        "colab": {
          "base_uri": "https://localhost:8080/",
          "height": 34
        }
      },
      "source": [
        "# Average every dv values across each (seed, metric)\n",
        "dv = 5\n",
        "training = training.reshape(len(files), 3, -1, dv).mean(axis=3)\n",
        "print(training.shape)"
      ],
      "execution_count": 89,
      "outputs": [
        {
          "output_type": "stream",
          "text": [
            "(1, 3, 3900)\n"
          ],
          "name": "stdout"
        }
      ]
    },
    {
      "cell_type": "code",
      "metadata": {
        "id": "72HYnHUFWvvT",
        "outputId": "21270d5e-d0cc-49a9-eb90-d1bbf5f5faf3",
        "colab": {
          "base_uri": "https://localhost:8080/",
          "height": 52
        }
      },
      "source": [
        "# Average the seeds\n",
        "training_mean = training.mean(axis=0)\n",
        "training_std = training.std(axis=0)\n",
        "print(training_mean.shape)\n",
        "print(training_std.shape)"
      ],
      "execution_count": 90,
      "outputs": [
        {
          "output_type": "stream",
          "text": [
            "(3, 3900)\n",
            "(3, 3900)\n"
          ],
          "name": "stdout"
        }
      ]
    },
    {
      "cell_type": "code",
      "metadata": {
        "id": "VqYhVD2SSMeQ",
        "outputId": "e9dc1dab-6d5b-4705-c742-7c66ae1ddf4c",
        "colab": {
          "base_uri": "https://localhost:8080/",
          "height": 352
        }
      },
      "source": [
        "fig = plt.figure(figsize=(12, 5))\n",
        "\n",
        "# X axis is normalized to thousands\n",
        "x = np.arange(dv / 1000, (batch_num / 1000) + (dv / 1000), dv / 1000)\n",
        "\n",
        "# Plot the cost\n",
        "# plt.plot(x, training_mean[0], 'o-', linewidth=2, label='Cost')\n",
        "plt.errorbar(x, training_mean[0], yerr=training_std[0], fmt='o-', elinewidth=2, linewidth=2, label='Cost')\n",
        "plt.grid()\n",
        "plt.yticks(np.arange(0, training_mean[0][0]+5, 5))\n",
        "plt.ylabel('Cost per sequence (bits)')\n",
        "plt.xlabel('Sequence (thousands)')\n",
        "plt.title('Training Convergence', fontsize=16)\n",
        "\n",
        "ax = plt.axes([.57, .55, .25, .25], facecolor=(0.97, 0.97, 0.97))\n",
        "plt.title(\"BCELoss\")\n",
        "plt.plot(x, training_mean[1], 'r-', label='BCE Loss')\n",
        "plt.yticks(np.arange(0, training_mean[1][0]+0.2, 0.2))\n",
        "plt.grid()\n",
        "\n",
        "plt.show()"
      ],
      "execution_count": 91,
      "outputs": [
        {
          "output_type": "display_data",
          "data": {
            "text/plain": [
              "<Figure size 864x360 with 2 Axes>"
            ],
            "image/png": "[encoded data removed]"
          },
          "metadata": {
            "tags": [],
            "needs_background": "light"
          }
        }
      ]
    },
    {
      "cell_type": "code",
      "metadata": {
        "id": "74WvMp1NXMtQ",
        "outputId": "347a8593-6af1-4bbb-9a39-a93130d9b8cb",
        "colab": {
          "base_uri": "https://localhost:8080/",
          "height": 357
        }
      },
      "source": [
        "id = 0\n",
        "\n",
        "loss = history[id]['loss']\n",
        "cost = history[id]['cost']\n",
        "seq_lengths = history[id]['seq_lengths']\n",
        "\n",
        "unique_sls = set(seq_lengths)\n",
        "all_metric = list(zip(range(1, batch_num+1), seq_lengths, loss, cost))\n",
        "\n",
        "fig = plt.figure(figsize=(12, 5))\n",
        "plt.ylabel('Cost per sequence (bits)')\n",
        "plt.xlabel('Iteration (thousands)')\n",
        "plt.title('Training Convergence (Per Sequence Length)', fontsize=16)\n",
        "\n",
        "for sl in unique_sls:\n",
        "    sl_metrics = [i for i in all_metric if i[1] == sl]\n",
        "\n",
        "    x = [i[0] for i in sl_metrics]\n",
        "    y = [i[3] for i in sl_metrics]\n",
        "    \n",
        "    num_pts = len(x) // 50\n",
        "    total_pts = num_pts * 50\n",
        "    \n",
        "    x_mean = [i.mean()/1000 for i in np.split(np.array(x)[:total_pts], num_pts)]\n",
        "    y_mean = [i.mean() for i in np.split(np.array(y)[:total_pts], num_pts)]\n",
        "    \n",
        "    plt.plot(x_mean, y_mean, label='Seq-{}'.format(sl))\n",
        "\n",
        "plt.yticks(np.arange(0, 80, 5))\n",
        "plt.legend(loc=0)\n",
        "plt.show()"
      ],
      "execution_count": 92,
      "outputs": [
        {
          "output_type": "display_data",
          "data": {
            "text/plain": [
              "<Figure size 864x360 with 1 Axes>"
            ],
            "image/png": "[encoded data removed]"
          },
          "metadata": {
            "tags": [],
            "needs_background": "light"
          }
        }
      ]
    },
    {
      "cell_type": "markdown",
      "metadata": {
        "id": "PxRKUcxgXQQ7"
      },
      "source": [
        "## Evalute"
      ]
    },
    {
      "cell_type": "code",
      "metadata": {
        "id": "8BagM_19XRez"
      },
      "source": [
        "import torch\n",
        "from IPython.display import Image as IPythonImage\n",
        "from PIL import Image, ImageDraw, ImageFont\n",
        "import io"
      ],
      "execution_count": 93,
      "outputs": []
    },
    {
      "cell_type": "code",
      "metadata": {
        "id": "saZtJQtGXVTO",
        "outputId": "dae0f264-bb77-4339-b609-76653edc4086",
        "colab": {
          "base_uri": "https://localhost:8080/",
          "height": 34
        }
      },
      "source": [
        "# Initialize the Model]# Initialize the Model\n",
        "model.net.load_state_dict(torch.load(PATH + '/recopy-task-{}-batch-{}.model'.format(SEED, batch_num)))"
      ],
      "execution_count": 94,
      "outputs": [
        {
          "output_type": "execute_result",
          "data": {
            "text/plain": [
              "<All keys matched successfully>"
            ]
          },
          "metadata": {
            "tags": []
          },
          "execution_count": 94
        }
      ]
    },
    {
      "cell_type": "code",
      "metadata": {
        "id": "9Q5uHBJ7XXbF",
        "outputId": "80f61b0e-f10c-43b6-f192-8bdfb4fc5f0a",
        "colab": {
          "base_uri": "https://localhost:8080/",
          "height": 52
        }
      },
      "source": [
        "seq_len = 20\n",
        "_, x, y = next(iter(recopy_dataloader(1, 1, 8, seq_len, seq_len, 10, 10)))\n",
        "result = evaluate(model.net, model.criterion, x, y)\n",
        "y_out = result['y_out']"
      ],
      "execution_count": 95,
      "outputs": [
        {
          "output_type": "stream",
          "text": [
            "/app/anaconda3/envs/NTM/lib/python3.7/site-packages/torch/nn/functional.py:1614: UserWarning: nn.functional.tanh is deprecated. Use torch.tanh instead.\n",
            "  warnings.warn(\"nn.functional.tanh is deprecated. Use torch.tanh instead.\")\n"
          ],
          "name": "stderr"
        }
      ]
    },
    {
      "cell_type": "code",
      "metadata": {
        "id": "i0itU9RDXYQD"
      },
      "source": [
        "def cmap(value):\n",
        "    pixval = value * 255\n",
        "    low = 64\n",
        "    high = 240\n",
        "    factor = (255 - low - (255-high)) / 255\n",
        "    return int(low + pixval * factor)\n",
        "\n",
        "def draw_sequence(y, u=12):\n",
        "    seq_len = y.size(0)\n",
        "    seq_width = y.size(2)\n",
        "    inset = u // 8\n",
        "    pad = u // 2\n",
        "    width = seq_len * u + 2 * pad\n",
        "    height = seq_width * u + 2 * pad\n",
        "    im = Image.new('L', (width, height))\n",
        "    draw = ImageDraw.ImageDraw(im)\n",
        "    draw.rectangle([0, 0, width, height], fill=250)\n",
        "    for i in range(seq_len):\n",
        "        for j in range(seq_width):\n",
        "            val = 1 - y[i, 0, j].item()\n",
        "            draw.rectangle([pad + i*u + inset,\n",
        "                            pad + j*u + inset,\n",
        "                            pad + (i+1)*u - inset,\n",
        "                            pad + (j+1)*u - inset], fill=cmap(val))\n",
        "\n",
        "    return im\n",
        "\n",
        "def im_to_png_bytes(im):\n",
        "    png = io.BytesIO()\n",
        "    im.save(png, 'PNG')\n",
        "    return bytes(png.getbuffer())\n",
        "\n",
        "def im_vconcat(imgs, pad=8):\n",
        "  w, h = imgs[0].size\n",
        "\n",
        "  width = w\n",
        "  height = (h + pad) * len(imgs)\n",
        "\n",
        "  im = Image.new('L', (width, height), color=255)\n",
        "  for i, img in enumerate(imgs):\n",
        "    im.paste(img, (0, i*(h+pad)))\n",
        "  return im"
      ],
      "execution_count": 108,
      "outputs": []
    },
    {
      "cell_type": "code",
      "metadata": {
        "id": "QjzN5wKoXYr3",
        "outputId": "561f8458-1f8b-4a73-d226-49e8825192f6",
        "colab": {
          "base_uri": "https://localhost:8080/",
          "height": 245
        }
      },
      "source": [
        "def make_eval_plot(y, y_out, u=12):\n",
        "    im_y = draw_sequence(y, u)\n",
        "    im_y_out = draw_sequence(y_out, u)\n",
        "    im_y_diff = draw_sequence(y_out - y, u)\n",
        "    im = im_vconcat([im_y, im_y_out, im_y_diff], u//2)\n",
        "    \n",
        "    w, h = im.size\n",
        "    pad_w = u * 7\n",
        "    im2 = Image.new('L', (w+pad_w, h), color=255)\n",
        "    im2.paste(im, (pad_w, 0))\n",
        "    \n",
        "    # Add text\n",
        "    # font = ImageFont.truetype(\"./fonts/PT_Sans-Web-Regular.ttf\", 13)\n",
        "    draw = ImageDraw.ImageDraw(im2)\n",
        "    draw.text((u,4*u), \"Targets\")#, font=font)\n",
        "    draw.text((u,13*u), \"Outputs\")#, font=font)    \n",
        "    draw.text((u,23*u), \"Diff\")#, font=font)\n",
        "\n",
        "    return im2\n",
        "\n",
        "im = make_eval_plot(y, y_out, u=8)\n",
        "IPythonImage(im_to_png_bytes(im))"
      ],
      "execution_count": 112,
      "outputs": [
        {
          "output_type": "execute_result",
          "data": {
            "image/png": "[encoded data removed]",
            "text/plain": [
              "<IPython.core.display.Image object>"
            ]
          },
          "metadata": {
            "tags": []
          },
          "execution_count": 112
        }
      ]
    },
    {
      "cell_type": "code",
      "metadata": {
        "id": "KCHW-yLXXYxG",
        "outputId": "04363765-2297-4336-f024-03a4a50a8cd8",
        "colab": {
          "base_uri": "https://localhost:8080/",
          "height": 52
        }
      },
      "source": [
        "seq_len = 20\n",
        "_, x, y = next(iter(recopy_dataloader(1, 1, 8, seq_len, seq_len, 10, 10)))\n",
        "\n",
        "frames = []\n",
        "# font = ImageFont.truetype(\"./fonts/PT_Sans-Web-Regular.ttf\", 13)\n",
        "for batch_num in range(500, 20000, 500):\n",
        "    model = CopyTaskModelTraining()\n",
        "    model.net.load_state_dict(torch.load(PATH + '/recopy-task-{}-batch-{}.model'.format(SEED, batch_num)))\n",
        "    result = evaluate(model.net, model.criterion, x, y)\n",
        "    y_out = result['y_out']\n",
        "    frame = make_eval_plot(y, y_out, u=10)\n",
        "    \n",
        "    w, h = frame.size\n",
        "    frame_seq = Image.new('L', (w, h+40), color=255)\n",
        "    frame_seq.paste(frame, (0, 40))\n",
        "    \n",
        "    draw = ImageDraw.ImageDraw(frame_seq)\n",
        "    draw.text((10, 10), \"Sequence Num: {} (Cost: {})\".format(batch_num, result['cost']))\n",
        "    \n",
        "    frames += [frame_seq]"
      ],
      "execution_count": 100,
      "outputs": [
        {
          "output_type": "stream",
          "text": [
            "/app/anaconda3/envs/NTM/lib/python3.7/site-packages/torch/nn/functional.py:1614: UserWarning: nn.functional.tanh is deprecated. Use torch.tanh instead.\n",
            "  warnings.warn(\"nn.functional.tanh is deprecated. Use torch.tanh instead.\")\n"
          ],
          "name": "stderr"
        }
      ]
    },
    {
      "cell_type": "code",
      "metadata": {
        "id": "TxKKjHoYXY1X"
      },
      "source": [
        "im = frames[0]\n",
        "im.save(\"./copy-train-801.gif\", save_all=True, append_images=frames[1:], loop=0, duration=1000)\n",
        "\n",
        "im = frames[0]\n",
        "im.save(\"./copy-train-80-fast1.gif\", save_all=True, append_images=frames[1:], loop=0, duration=100)"
      ],
      "execution_count": 101,
      "outputs": []
    },
    {
      "cell_type": "code",
      "metadata": {
        "id": "mCwd3Trp0989"
      },
      "source": [
        ""
      ],
      "execution_count": null,
      "outputs": []
    }
  ]
}