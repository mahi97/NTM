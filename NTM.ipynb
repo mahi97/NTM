{
  "nbformat": 4,
  "nbformat_minor": 0,
  "metadata": {
    "colab": {
      "name": "NTM",
      "provenance": [],
      "authorship_tag": "ABX9TyMID1zGVXVuzgdVOafEKX2C",
      "include_colab_link": true
    },
    "kernelspec": {
      "name": "python3",
      "display_name": "Python 3"
    }
  },
  "cells": [
    {
      "cell_type": "markdown",
      "metadata": {
        "id": "view-in-github",
        "colab_type": "text"
      },
      "source": [
        "<a href=\"https://colab.research.google.com/github/mahi97/NTM/blob/master/NTM.ipynb\" target=\"_parent\"><img src=\"https://colab.research.google.com/assets/colab-badge.svg\" alt=\"Open In Colab\"/></a>"
      ]
    },
    {
      "cell_type": "code",
      "metadata": {
        "id": "h6mr5lvwGXjV"
      },
      "source": [
        "import torch\n",
        "import torch.nn.functional as F\n",
        "from torch import nn\n",
        "import numpy as np"
      ],
      "execution_count": 1,
      "outputs": []
    },
    {
      "cell_type": "markdown",
      "metadata": {
        "id": "UooDLvpe-6qb"
      },
      "source": [
        "## Memory Module"
      ]
    },
    {
      "cell_type": "code",
      "metadata": {
        "id": "pm7bl0LiK6Hm"
      },
      "source": [
        "def _convolve(w, s):\n",
        "  \"\"\"Circular convolution implementation.\"\"\"\n",
        "  assert s.size(0) == 3\n",
        "  t = torch.cat([w[-1:], w, w[:1]])\n",
        "  c = F.conv1d(t.view(1, 1, -1), s.view(1, 1, -1)).view(-1)\n",
        "  return c\n",
        "\n",
        "class Memory(nn.Module):\n",
        "  def __init__(self, N, M):\n",
        "    super(Memory, self).__init__()\n",
        "\n",
        "    self.M = M\n",
        "    self.N = N\n",
        "    \n",
        "    # The memory bias allows the heads to learn how to initially address\n",
        "    # memory locations by content\n",
        "    self.register_buffer('mem_bias', torch.Tensor(N, M))\n",
        "    std_dev = 1 / np.sqrt(N + M)\n",
        "    nn.init.uniform(self.mem_bias, -std_dev, std_dev)\n",
        "    \n",
        "  def reset(self, batch_size):\n",
        "    \"\"\"Initialize memory from bias, for start-of-sequence.\"\"\"\n",
        "    self.batch_size = batch_size\n",
        "    self.mem = self.mem_bias.clone().repeat(batch_size, 1, 1)\n",
        "   \n",
        "  def read(self, address):\n",
        "    \"\"\"\n",
        "    :param address: Batched Tensor with Size of batch_size * N, contain value between 0 and 1 with sum equals to 1\n",
        "    :return: Torch batched tensor with Size of batch_size * M, produce by sum over weighted elements of Memory\n",
        "    \"\"\"\n",
        "    return address.unsqueeze(-1).matmul(self.mem).squeeze(1)\n",
        "\n",
        "  def write(self, address, erase_vector, add_vector):\n",
        "    self.prev_mem = self.mem\n",
        "    self.mem = torch.Tensor(self.batch_size, self.N, self.M)\n",
        "    erase = torch.matmul(w.unsqueeze(-1), e.unsqueeze(1))\n",
        "    add = torch.matmul(w.unsqueeze(-1), a.unsqueeze(1))\n",
        "    self.memory = self.prev_mem * (1 - erase) + add\n",
        "\n",
        "  def address(self, key_vector, key_strength, gate, shift, sharpen, last_address):\n",
        "    \"\"\"NTM Addressing (according to section 3.3).\n",
        "    Returns a softmax weighting over the rows of the memory matrix.\n",
        "    :param key_vector: The key vector.\n",
        "    :param key_strength: The key strength (focus).\n",
        "    :param gate: Scalar interpolation gate (with previous weighting).\n",
        "    :param shift: Shift weighting.\n",
        "    :param sharpen: Sharpen weighting scalar.\n",
        "    :param last_address: The weighting produced in the previous time step.\n",
        "    \"\"\"\n",
        "    wc = F.softmax(key_strength * F.cosine_similarity(key_vector.unsqueeze(1), self.mem, dim=2), dim=1)\n",
        "    wg = (gate * wc) + (1 - gate) * last_address\n",
        "    ws = torch.from_numpy(np.array([(_convolve(wg[b], shift[b])).numpy() for b in range(self.batch_size)]))\n",
        "    ws = (ws ** sharpen)\n",
        "    wt = torch.true_divide(ws, torch.sum(ws, dim=1).view(-1, 1) + 1e-16)\n",
        "\n",
        "    return wt\n"
      ],
      "execution_count": 2,
      "outputs": []
    },
    {
      "cell_type": "markdown",
      "metadata": {
        "id": "6kNyt0i4qdD6"
      },
      "source": [
        "## Controller Module\n",
        "### 1. LSTM\n"
      ]
    },
    {
      "cell_type": "code",
      "metadata": {
        "id": "hBQzqZ8wqcVG"
      },
      "source": [
        "class LSTMController(nn.Module):\n",
        "  def __init__(self, num_inputs, num_outputs, num_layers):\n",
        "    super(LSTMController, self).__init__()\n",
        "\n",
        "    self.num_inputs  = num_inputs\n",
        "    self.num_layers  = num_layers\n",
        "    self.num_outputs = num_outputs\n",
        "\n",
        "    self.lstm = nn.LSTM(num_inputs, num_outputs, num_layers)\n",
        "\n",
        "    self.lstm_h_state = nn.Parameter(torch.randn(num_layers, 1, num_outputs) * 0.05) # Why 0.05??\n",
        "    self.lstm_c_state = nn.Parameter(torch.Tensor(num_layers, 1, num_outputs) * 0.05) \n",
        "\n",
        "  def create_new_state(self, batch_size):\n",
        "    # Dimension: (num_layers * num_directions, batch, hidden_size)\n",
        "    lstm_h = self.lstm_h_bias.clone().repeat(1, batch_size, 1)\n",
        "    lstm_c = self.lstm_c_bias.clone().repeat(1, batch_size, 1)\n",
        "    return lstm_h, lstm_c\n",
        "\n",
        "  def reset_parameters(self):\n",
        "    for p in self.lstm.parameters():\n",
        "      if p.dim() == 1:\n",
        "        nn.init.constant_(p, 0)\n",
        "      else:\n",
        "        stdev = 5 / (np.sqrt(self.num_inputs +  self.num_outputs))\n",
        "        nn.init.uniform_(p, -stdev, stdev)\n",
        "\n",
        "  def size(self):\n",
        "    return self.num_inputs, self.num_outputs\n",
        "\n",
        "  def forward(self, x, prev_state):\n",
        "    x = x.unsqueeze(0)\n",
        "    outp, state = self.lstm(x, prev_state)\n",
        "    return outp.squeeze(0), state\n"
      ],
      "execution_count": 213,
      "outputs": []
    },
    {
      "cell_type": "markdown",
      "metadata": {
        "id": "vfXXASFt1TKn"
      },
      "source": [
        "### 2. Feed Forward"
      ]
    },
    {
      "cell_type": "code",
      "metadata": {
        "id": "qBt_xaa8r939"
      },
      "source": [
        "class FFController(nn.Module):\n",
        "  def __init__(self, num_inputs, num_outputs, num_hidden):\n",
        "    super(FFController, self).__init__()\n",
        "\n",
        "    self.num_inputs  = num_inputs\n",
        "    self.num_hidden  = num_hidden\n",
        "    self.num_outputs = num_outputs\n",
        "\n",
        "    self.fc1 = nn.Linear(num_inputs, num_hidden)\n",
        "    self.sigmoid = nn.Sigmoid()\n",
        "    self.fc2 = nn.Linear(num_hidden, num_outputs)\n",
        "    self.reset_parameters()\n",
        "\n",
        "  def reset_parameters(self):\n",
        "    # Initialize the linear layers\n",
        "    nn.init.xavier_uniform_(self.fc1.weight, gain=1.4)\n",
        "    nn.init.normal_(self.fc1.bias, std=0.01)\n",
        "    nn.init.xavier_uniform_(self.fc2.weight, gain=1.4)\n",
        "    nn.init.normal_(self.fc2.bias, std=0.01)\n",
        "  \n",
        "  def size(self):\n",
        "    return self.num_inputs, self.num_outputs\n",
        "\n",
        "  def forward(self, x):\n",
        "    out = self.fc1(x)\n",
        "    out = self.sigmoid(out)\n",
        "    out = self.fc2(out)\n",
        "    return out"
      ],
      "execution_count": null,
      "outputs": []
    },
    {
      "cell_type": "markdown",
      "metadata": {
        "id": "Emutzzuj7HHz"
      },
      "source": [
        "## Heads"
      ]
    },
    {
      "cell_type": "markdown",
      "metadata": {
        "id": "sQLCFZ6D-QuH"
      },
      "source": [
        "### 1. Base Head"
      ]
    },
    {
      "cell_type": "code",
      "metadata": {
        "id": "5GsYm--m7Io8"
      },
      "source": [
        "class BaseHead(nn.Module):\n",
        "  def __init__(self, memory, controller):\n",
        "    super(BaseHead, self).__init__()\n",
        "\n",
        "    self.memo = memory\n",
        "    self.ctrl = controller\n",
        "    _, self.ctrl_size = controller.size()\n",
        "    self.M = memory.M\n",
        "    self.N = memory.N\n",
        "  \n",
        "  def create_new_state(self, batch_size):\n",
        "    raise NotImplementedError\n",
        "\n",
        "  def register_parameters(self):\n",
        "    raise NotImplementedError\n",
        "\n",
        "  def reset_parameters(self):\n",
        "    raise NotImplementedError\n",
        "\n",
        "  def is_read_head(self):\n",
        "    return NotImplementedError\n",
        "\n",
        "  def _address_memory(self, k, B, g, s, L, w_prev):\n",
        "    # Handle Activations\n",
        "    k = k.clone()\n",
        "    B = F.softplus(B)\n",
        "    g = F.sigmoid(g)\n",
        "    s = F.softmax(s, dim=1)\n",
        "    L = 1 + F.softplus(L)\n",
        "\n",
        "    w = self.memory.address(k, B, g, s, L, w_prev)\n",
        "\n",
        "    return w\n",
        "\n",
        "\n",
        "def _split_cols(mat, lengths):\n",
        "    \"\"\"Split a 2D matrix to variable length columns.\"\"\"\n",
        "    assert mat.size()[1] == sum(lengths), \"Lengths must be summed to num columns\"\n",
        "    l = np.cumsum([0] + lengths)\n",
        "    results = []\n",
        "    for s, e in zip(l[:-1], l[1:]):\n",
        "        results += [mat[:, s:e]]\n",
        "    return results"
      ],
      "execution_count": 27,
      "outputs": []
    },
    {
      "cell_type": "markdown",
      "metadata": {
        "id": "3mlxJUEC-WH1"
      },
      "source": [
        "### 2. Read Head"
      ]
    },
    {
      "cell_type": "code",
      "metadata": {
        "id": "cmQmaKlS-VM5"
      },
      "source": [
        "class ReadHead(BaseHead):\n",
        "  def __init__(self, memory, controller):\n",
        "    super(ReadHead, self).__init__(memory, controller)\n",
        "\n",
        "    #                     K, B, G, S, L\n",
        "    self.read_vector = [self.M, 1, 1, 3, 1]\n",
        "    self.fc_read = nn.Linear(self.ctrl_size, sum(self.read_vector))\n",
        "    self.reset_parameters()\n",
        "  \n",
        "  def create_new_state(self, batch_size):\n",
        "    return torch.zeros(batch_size, self.N)\n",
        "\n",
        "  def reset_parameters(self):\n",
        "    nn.init.xavier_uniform_(self.fc_read.weight, gain=1.4)\n",
        "    nn.init.normal_(self.fc_read.bias, std=0.01)\n",
        "\n",
        "  def is_read_head(self):\n",
        "    return True\n",
        "\n",
        "  def forward(self, input, last_w):\n",
        "    out = self.fc_read(input)\n",
        "    K, B, G, S, L = _split_cols(out, self.read_vector)\n",
        "    w = self._address_memory(K, B, G, S, L, last_w)\n",
        "    r = self.memo.read(w)\n",
        "    return r, w"
      ],
      "execution_count": 28,
      "outputs": []
    },
    {
      "cell_type": "markdown",
      "metadata": {
        "id": "X4vG4rqFF8Hw"
      },
      "source": [
        "### 3. Write Head"
      ]
    },
    {
      "cell_type": "code",
      "metadata": {
        "id": "ATTmhBcOF8gx"
      },
      "source": [
        "class WriteHead(BaseHead):\n",
        "  def __init__(self, memory, controller):\n",
        "    super(ReadHead, self).__init__(memory, controller)\n",
        "\n",
        "    #                     K, B, G, S, L, add, erase\n",
        "    self.write_vector = [self.M, 1, 1, 3, 1, self.M, self.M]\n",
        "    self.fc_write = nn.Linear(self.ctrl_size, sum(self.write_vector))\n",
        "    self.reset_parameters()\n",
        "  \n",
        "  def create_new_state(self, batch_size):\n",
        "    return torch.zeros(batch_size, self.N)\n",
        "\n",
        "  def reset_parameters(self):\n",
        "    nn.init.xavier_uniform_(self.fc_write.weight, gain=1.4)\n",
        "    nn.init.normal_(self.fc_write.bias, std=0.01)\n",
        "\n",
        "  def is_read_head(self):\n",
        "    return False\n",
        "\n",
        "  def forward(self, input, last_w):\n",
        "    out = self.fc_write(input)\n",
        "    K, B, G, S, L, A, E = _split_cols(out, self.write_vector)\n",
        "    w = self._address_memory(K, B, G, S, L, last_w)\n",
        "    self.memo.write(w, F.sigmoid(E), A)\n",
        "    return w"
      ],
      "execution_count": 29,
      "outputs": []
    },
    {
      "cell_type": "markdown",
      "metadata": {
        "id": "SM8LKpDfMUGN"
      },
      "source": [
        "## DataPath"
      ]
    },
    {
      "cell_type": "code",
      "metadata": {
        "id": "Hd-44FSlMUep"
      },
      "source": [
        "class DataPath(nn.Module):\n",
        "  \"\"\"A DataPath for NTM.\"\"\"\n",
        "  def __init__(self, num_inputs, num_outputs, controller, memory, heads):\n",
        "    \"\"\"Initialize the DataPath.\n",
        "    :param num_inputs: External input size.\n",
        "    :param num_outputs: External output size.\n",
        "    :param controller: :class:`LSTMController`\n",
        "    :param memory: :class:`Memory`\n",
        "    :param heads: list of :class:`ReadHead` or :class:`WriteHead`\n",
        "    Note: This design allows the flexibility of using any number of read and\n",
        "          write heads independently, also, the order by which the heads are\n",
        "          called in controlled by the user (order in list)\n",
        "    \"\"\"\n",
        "    super(DataPath, self).__init__()\n",
        "\n",
        "    self.num_inputs = num_inputs\n",
        "    self.num_outputs = num_outputs\n",
        "    self.controller = controller\n",
        "    self.memory = memory\n",
        "    self.heads = heads\n",
        "\n",
        "    self.N, self.M = memory.size()\n",
        "    _, self.controller_size = controller.size()\n",
        "\n",
        "    # Initialize a fully connected layer to produce the actual output:\n",
        "    #   [controller_output; previous_reads ] -> output\n",
        "    # self.fc = nn.Linear(self.controller_size + self.num_read_heads * self.M, num_outputs)\n",
        "    #   [controller_output ] -> output\n",
        "    self.fc = nn.Linear(self.controller_size, num_outputs)\n",
        "    self.reset_parameters()\n",
        "\n",
        "  def create_new_state(self, batch_size):\n",
        "    init_r = [r.clone().repeat(batch_size, 1) for r in self.init_r]\n",
        "    controller_state = self.controller.create_new_state(batch_size)\n",
        "    heads_state = [head.create_new_state(batch_size) for head in self.heads]\n",
        "\n",
        "    return init_r, controller_state, heads_state\n",
        "\n",
        "  def reset_parameters(self):\n",
        "    # Initialize the linear layer\n",
        "    nn.init.xavier_uniform_(self.fc.weight, gain=1)\n",
        "    nn.init.normal_(self.fc.bias, std=0.01)\n",
        "    \n",
        "    # Initialize the initial previous read values to random biases\n",
        "    self.num_read_heads = 0\n",
        "    self.init_r = []\n",
        "    for head in heads:\n",
        "      if head.is_read_head():\n",
        "        init_r_bias = torch.randn(1, self.M) * 0.01\n",
        "        self.register_buffer(\"read{}_bias\".format(self.num_read_heads), init_r_bias.data)\n",
        "        self.init_r += [init_r_bias]\n",
        "        self.num_read_heads += 1\n",
        "\n",
        "    assert self.num_read_heads > 0, \"heads list must contain at least a single read head\"\n",
        "\n",
        "  def forward(self, x, prev_state):\n",
        "    \"\"\"DataPath forward function.\n",
        "    :param x: input vector (batch_size x num_inputs)\n",
        "    :param prev_state: The previous state of the DataPath\n",
        "    \"\"\"\n",
        "    # Unpack the previous state\n",
        "    prev_reads, prev_controller_state, prev_heads_states = prev_state\n",
        "\n",
        "    # Use the controller to get an embeddings\n",
        "    inp = torch.cat([x] + prev_reads, dim=1)\n",
        "    controller_outp, controller_state = self.controller(inp, prev_controller_state)\n",
        "\n",
        "    # Read/Write from the list of heads\n",
        "    reads = []\n",
        "    heads_states = []\n",
        "    for head, prev_head_state in zip(self.heads, prev_heads_states):\n",
        "      if head.is_read_head():\n",
        "        r, head_state = head(controller_outp, prev_head_state)\n",
        "        reads += [r]\n",
        "      else:\n",
        "        head_state = head(controller_outp, prev_head_state)\n",
        "        heads_states += [head_state]\n",
        "\n",
        "    # Generate Output\n",
        "    # inp2 = torch.cat([controller_outp] + reads, dim=1)\n",
        "    # o = F.sigmoid(self.fc(inp2))\n",
        "    o = F.sigmoid(self.fc(controller_outp))\n",
        "\n",
        "    # Pack the current state\n",
        "    state = (reads, controller_state, heads_states)\n",
        "\n",
        "    return o, state"
      ],
      "execution_count": 31,
      "outputs": []
    },
    {
      "cell_type": "markdown",
      "metadata": {
        "id": "AH2_OV-yHfC6"
      },
      "source": [
        "## NTM"
      ]
    },
    {
      "cell_type": "code",
      "metadata": {
        "id": "bVH6r5dPHWG-"
      },
      "source": [
        "class NTM(nn.Module):\n",
        "\n",
        "  def __init__(self, num_inputs, num_outputs, controller_size, controller_layers, num_read_heads, num_write_heads, N, M):\n",
        "    \"\"\"Initialize an NTM.\n",
        "    :param num_inputs: External number of inputs.\n",
        "    :param num_outputs: External number of outputs.\n",
        "    :param controller_size: The size of the internal representation.\n",
        "    :param controller_layers: Controller number of layers.\n",
        "    :param num_heads: Number of heads.\n",
        "    :param N: Number of rows in the memory bank.\n",
        "    :param M: Number of cols/features in the memory bank.\n",
        "    \"\"\"\n",
        "    super(NTM, self).__init__()\n",
        "\n",
        "    # Save args\n",
        "    self.num_inputs = num_inputs\n",
        "    self.num_outputs = num_outputs\n",
        "    self.controller_size = controller_size\n",
        "    self.controller_layers = controller_layers\n",
        "    self.num_read_heads = num_read_heads\n",
        "    self.num_write_heads = num_write_heads\n",
        "    self.N = N\n",
        "    self.M = M\n",
        "\n",
        "    # Create the NTM components\n",
        "    self.memory = Memory(N, M)\n",
        "    self.controller = LSTMController(num_inputs + M*num_heads, controller_size, controller_layers)\n",
        "    # controller = FFController(num_inputs + M*num_heads, controller_size, controller_layers)\n",
        "    self.heads = nn.ModuleList([ReadHead(self.memory, self.controller) for _ in range(num_read_heads)])\n",
        "    self.heads += [WriteHead(self.memory, self.controller) for _ in range(num_write_heads)]\n",
        "\n",
        "    self.data_path = DataPath(num_inputs, num_outputs, self.controller, self.memory, self.heads)\n",
        "\n",
        "  def init_sequence(self, batch_size):\n",
        "    \"\"\"Initializing the state.\"\"\"\n",
        "    self.batch_size = batch_size\n",
        "    self.memory.reset(batch_size)\n",
        "    self.previous_state = self.data_path.create_new_state(batch_size)\n",
        "\n",
        "  def forward(self, x=None):\n",
        "    if x is None:\n",
        "      x = torch.zeros(self.batch_size, self.num_inputs)\n",
        "    \n",
        "    o, self.previous_state = self.data_path(x, self.previous_state)\n",
        "    return o, self.previous_state\n",
        "\n",
        "  def calculate_num_params(self):\n",
        "    \"\"\"Returns the total number of parameters.\"\"\"\n",
        "    num_params = 0\n",
        "    for p in self.parameters():\n",
        "      num_params += p.data.view(-1).size(0)\n",
        "    \n",
        "    return num_params"
      ],
      "execution_count": 30,
      "outputs": []
    },
    {
      "cell_type": "code",
      "metadata": {
        "id": "wzAN675DQ3Ee",
        "outputId": "eebcb207-41a5-47a6-a95d-b9f603452f7e",
        "colab": {
          "base_uri": "https://localhost:8080/"
        }
      },
      "source": [
        "a = [1,2,4]\n",
        "a += [1,4,6,7]\n",
        "a"
      ],
      "execution_count": 34,
      "outputs": [
        {
          "output_type": "execute_result",
          "data": {
            "text/plain": [
              "[1, 2, 4, 1, 4, 6, 7]"
            ]
          },
          "metadata": {
            "tags": []
          },
          "execution_count": 34
        }
      ]
    }
  ]
}